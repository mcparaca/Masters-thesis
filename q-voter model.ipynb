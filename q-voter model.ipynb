{
 "cells": [
  {
   "cell_type": "code",
   "execution_count": 1,
   "id": "b8f0c2d5",
   "metadata": {},
   "outputs": [],
   "source": [
    "import random as rnd\n",
    "import networkx as nx\n",
    "import numpy as np\n",
    "import matplotlib.pyplot as plt\n",
    "import collections, functools, operator"
   ]
  },
  {
   "cell_type": "code",
   "execution_count": 2,
   "id": "087b6e96",
   "metadata": {},
   "outputs": [],
   "source": [
    "def q_voter_model(G, p, q, f, epsilon, N = 1000, ratio = 0.5):\n",
    "    \"\"\"\n",
    "    Function simulates the q-voter model over 1000 monte-carlo runs with the NN infuence model group, where in the network\n",
    "    there are 1000 spinsons\n",
    "    \n",
    "    Key arguments:\n",
    "    G -- networkx Graph\n",
    "    p -- independence factor -- float\n",
    "    q -- number of closest neighbors that can affect the opinion of a particular spinson -- integer\n",
    "    f -- probability of turning the opinion while being independent\n",
    "    epsilon -- probability of voter's opinion flipping while being a conformist unaffected by neighbors \n",
    "    N -- number of monte-carlo runs during the simulation\n",
    "    ratio -- percent of the opinions at time = 0 that are equal to 1 \n",
    "    \n",
    "    Function returns network's concentration after the whole simulaton.\n",
    "    \"\"\"\n",
    "    dicts = []\n",
    "    all_nodes = list(G.nodes())\n",
    "    opinion_dict = {}\n",
    "    for i in range(len(all_nodes)):\n",
    "        rand1 = rnd.random()\n",
    "        if rand1 < ratio :\n",
    "            opinion_dict[i] = 1\n",
    "        else:\n",
    "            opinion_dict[i] = 0 \n",
    "    dicts.append(opinion_dict)\n",
    "    for k in range(N):\n",
    "        independent = []\n",
    "        conformist = []\n",
    "        all_nodes = list(G.nodes())\n",
    "        for node in all_nodes:\n",
    "            rand = rnd.random()\n",
    "            if rand < p:\n",
    "                independent.append(node)\n",
    "            else:\n",
    "                conformist.append(node)\n",
    "        for s in independent:\n",
    "            state = opinion_dict[s]\n",
    "            rand2 = rnd.random()\n",
    "            if rand2 < f:\n",
    "                if state == 1:\n",
    "                    opinion_dict[s] = 0\n",
    "                else:\n",
    "                    opinion_dict[s] = 1\n",
    "        for d in conformist:\n",
    "            friends = list(G.neighbors(d))\n",
    "            chosen_friends = rnd.sample(friends, q)\n",
    "            opinions = []\n",
    "            for y in chosen_friends:\n",
    "                opinions.append(opinion_dict[y])\n",
    "            if sum(opinions) == q:\n",
    "                opinion_dict[d] = 1\n",
    "            elif sum(opinions) == 0:\n",
    "                opinion_dict[d] = 0\n",
    "            else:\n",
    "                random3 = rnd.random()\n",
    "                state = opinion_dict[d]\n",
    "                if random3 < epsilon:\n",
    "                    if state == 1:\n",
    "                        opinion_dict[d] = 0\n",
    "                    else:\n",
    "                        opinion_dict[d] = 1\n",
    "        dicts.append(opinion_dict)\n",
    "    c = sum(list(opinion_dict.values()))/len(G.nodes())\n",
    "    return c\n",
    "\n",
    "def concentration(G, list_of_p, q, f, epsilon, N, k, ratio = 0.5):\n",
    "    \"\"\"\n",
    "    Function calculates the average concentration for the list of values of p of a chosen number runs of the q voter model.\n",
    "    \n",
    "    Key arguments:\n",
    "    G -- networkx Graph\n",
    "    list_of_p -- list of independence factors -- list of floats\n",
    "    q -- number of closest neighbors that can affect the opinion of a particular spinson -- integer\n",
    "    f -- probability of turning the opinion while being independent\n",
    "    epsilon -- probability of voter's opinion flipping while being a conformist unaffected by neighbors \n",
    "    N -- number of monte-carlo runs during the simulation\n",
    "    k -- number of runs for calculating the avg magnetization -- integer\n",
    "    ratio -- percent of the opinions at time = 0 that are equal to 1 \n",
    "    \n",
    "    Function returns the list of average magentizations for each timestep of the simulation\n",
    "    \"\"\"\n",
    "\n",
    "    avg_vs_p = []\n",
    "    for i in list_of_p:\n",
    "        avg = []\n",
    "        for r in range(k):\n",
    "            voter = q_voter_model(G, i, q, f, epsilon, N, ratio)\n",
    "            avg.append(voter)\n",
    "        avg_vs_p.append(np.mean(avg))\n",
    "    \n",
    "    return avg_vs_p"
   ]
  },
  {
   "cell_type": "code",
   "execution_count": 6,
   "id": "649eaec4",
   "metadata": {},
   "outputs": [],
   "source": [
    "list_of_p = list(range(0,101,2))\n",
    "for i in range(len(list_of_p)):\n",
    "    list_of_p[i] /=100\n",
    "G = nx.complete_graph(100)\n",
    "modelf_02 = concentration(G, list_of_p, 4, 0.2, 0.05, 100, 50, ratio = 1)\n",
    "modelf_03 = concentration(G, list_of_p, 4, 0.3, 0.05, 100, 50, ratio = 1)\n",
    "modelf_04 = concentration(G, list_of_p, 4, 0.4, 0.05, 100, 50, ratio = 1)\n",
    "modelf_05 = concentration(G, list_of_p, 4, 0.5, 0.05, 100, 50, ratio = 1)"
   ]
  },
  {
   "cell_type": "code",
   "execution_count": 7,
   "id": "29dcfb2d",
   "metadata": {},
   "outputs": [
    {
     "data": {
      "image/png": "[encoded data removed]",
      "text/plain": [
       "<Figure size 936x648 with 1 Axes>"
      ]
     },
     "metadata": {
      "needs_background": "light"
     },
     "output_type": "display_data"
    }
   ],
   "source": [
    "plt.figure(figsize = (13,9))\n",
    "plt.plot(list_of_p, modelf_02, '*', label = \"f = 0.2\")\n",
    "plt.plot(list_of_p, modelf_03, 'o', label = \"f = 0.3\")\n",
    "plt.plot(list_of_p, modelf_04, 's', label = \"f = 0.4\")\n",
    "plt.plot(list_of_p, modelf_05, 'v', label = \"f = 0.5\")\n",
    "plt.legend(loc = \"best\")\n",
    "plt.grid()\n",
    "plt.xlabel(\"p\")\n",
    "plt.ylabel(\"concentration\")\n",
    "plt.title(\"Plot of concentration vs p\")\n",
    "plt.savefig(\"Concentration vs p.png\",dpi = 500)\n",
    "plt.show()"
   ]
  },
  {
   "cell_type": "code",
   "execution_count": null,
   "id": "5bc97659",
   "metadata": {},
   "outputs": [],
   "source": []
  }
 ],
 "metadata": {
  "kernelspec": {
   "display_name": "Python 3",
   "language": "python",
   "name": "python3"
  },
  "language_info": {
   "codemirror_mode": {
    "name": "ipython",
    "version": 3
   },
   "file_extension": ".py",
   "mimetype": "text/x-python",
   "name": "python",
   "nbconvert_exporter": "python",
   "pygments_lexer": "ipython3",
   "version": "3.6.8"
  }
 },
 "nbformat": 4,
 "nbformat_minor": 5
}
