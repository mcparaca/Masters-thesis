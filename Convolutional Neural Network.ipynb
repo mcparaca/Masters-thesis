{
 "cells": [
  {
   "cell_type": "code",
   "execution_count": 35,
   "id": "e8b25a58",
   "metadata": {},
   "outputs": [],
   "source": [
    "import tensorflow as tf\n",
    "import tensorflow.keras as tfk\n",
    "import matplotlib.pyplot as plt\n",
    "from tensorflow.keras.layers import Input, Lambda, Dense, Flatten,Conv2D\n",
    "from tensorflow.keras.models import Model\n",
    "from tensorflow.keras.applications.vgg19 import VGG19\n",
    "from tensorflow.keras.applications.resnet50 import preprocess_input\n",
    "from tensorflow.keras.preprocessing import image\n",
    "from tensorflow.keras.preprocessing.image import ImageDataGenerator,load_img\n",
    "from tensorflow.keras.models import Sequential\n",
    "import numpy as np\n",
    "from glob import glob\n",
    "import matplotlib.pyplot as plt\n",
    "from tensorflow.keras.layers import MaxPooling2D\n",
    "from sklearn.model_selection import KFold\n",
    "from sklearn.linear_model import SGDClassifier\n",
    "from tensorflow.keras.datasets import mnist"
   ]
  },
  {
   "cell_type": "code",
   "execution_count": 36,
   "id": "9140be69",
   "metadata": {},
   "outputs": [],
   "source": [
    "(trainX, trainY), (testX, testY) = mnist.load_data()\n",
    "trainX = trainX.reshape((trainX.shape[0], 28, 28, 1))\n",
    "testX = testX.reshape((testX.shape[0], 28, 28, 1))\n",
    "trainY = tf.keras.utils.to_categorical(trainY)\n",
    "testY = tf.keras.utils.to_categorical(testY)"
   ]
  },
  {
   "cell_type": "code",
   "execution_count": 54,
   "id": "f6fcc5cb",
   "metadata": {},
   "outputs": [],
   "source": [
    "def prepare_data(train, test):\n",
    "    train_norm = train.astype('float32')\n",
    "    test_norm = test.astype('float32')\n",
    "    train_norm = train_norm / 255.0\n",
    "    test_norm = test_norm / 255.0\n",
    "    return train_norm, test_norm\n",
    "\n",
    "def create_model():\n",
    "    model = Sequential()\n",
    "    model.add(Conv2D(32, (3, 3), activation='relu', kernel_initializer='he_uniform', input_shape=(28, 28, 1)))\n",
    "    model.add(MaxPooling2D((2, 2)))\n",
    "    model.add(Flatten())\n",
    "    model.add(Dense(10, activation='relu', kernel_initializer='he_uniform'))\n",
    "    model.add(Dense(10, activation='softmax'))\n",
    "    opt = tf.keras.optimizers.SGD(learning_rate=0.01, momentum=0.9)\n",
    "    model.compile(optimizer=opt, loss='categorical_crossentropy', metrics=['accuracy'])\n",
    "    return model\n",
    "\n",
    "def evaluate_model(X, Y, n_folds):\n",
    "    scores = []\n",
    "    kfold = KFold(n_folds, shuffle=True, random_state=1)\n",
    "    for train_x, test_x in kfold.split(X):\n",
    "        model = create_model()\n",
    "        trainX, trainY, testX, testY = X[train_x], Y[train_x], X[test_x], Y[test_x]\n",
    "        fit = model.fit(trainX, trainY, epochs=10, batch_size=32, validation_data=(testX, testY), verbose=0)\n",
    "        t, acc = model.evaluate(testX, testY, verbose=1)\n",
    "        scores.append(acc)\n",
    "    return scores"
   ]
  },
  {
   "cell_type": "code",
   "execution_count": 55,
   "id": "87363985",
   "metadata": {},
   "outputs": [
    {
     "name": "stdout",
     "output_type": "stream",
     "text": [
      "375/375 [==============================] - 1s 4ms/step - loss: 0.0758 - accuracy: 0.9814\n",
      "375/375 [==============================] - 1s 4ms/step - loss: 0.0857 - accuracy: 0.9772\n",
      "375/375 [==============================] - 1s 3ms/step - loss: 0.0723 - accuracy: 0.9795\n",
      "375/375 [==============================] - 1s 3ms/step - loss: 0.0790 - accuracy: 0.9774\n",
      "375/375 [==============================] - 1s 3ms/step - loss: 0.0810 - accuracy: 0.9784\n"
     ]
    }
   ],
   "source": [
    "trainX1, testX1 = prepare_data(trainX, testX)\n",
    "scores = evaluate_model(trainX1, trainY, 5)"
   ]
  },
  {
   "cell_type": "code",
   "execution_count": 56,
   "id": "5b77e415",
   "metadata": {},
   "outputs": [
    {
     "name": "stdout",
     "output_type": "stream",
     "text": [
      "Accuracy: mean=97.880 std=0.154, n=5\n"
     ]
    }
   ],
   "source": [
    "np.mean(scores)"
   ]
  }
 ],
 "metadata": {
  "kernelspec": {
   "display_name": "Python 3",
   "language": "python",
   "name": "python3"
  },
  "language_info": {
   "codemirror_mode": {
    "name": "ipython",
    "version": 3
   },
   "file_extension": ".py",
   "mimetype": "text/x-python",
   "name": "python",
   "nbconvert_exporter": "python",
   "pygments_lexer": "ipython3",
   "version": "3.6.8"
  }
 },
 "nbformat": 4,
 "nbformat_minor": 5
}
