{
 "cells": [
  {
   "cell_type": "code",
   "execution_count": 1,
   "id": "13e9d77c",
   "metadata": {},
   "outputs": [],
   "source": [
    "import findspark\n",
    "findspark.init()\n",
    "import pyspark\n",
    "import random\n",
    "from pyspark.sql import SparkSession\n",
    "import pyspark.sql\n",
    "sc = pyspark.SparkContext(appName=\"NBA\")"
   ]
  },
  {
   "cell_type": "markdown",
   "id": "8767333f",
   "metadata": {},
   "source": [
    "### Best scorers"
   ]
  },
  {
   "cell_type": "code",
   "execution_count": 2,
   "id": "b68809e5",
   "metadata": {},
   "outputs": [
    {
     "name": "stdout",
     "output_type": "stream",
     "text": [
      "+-----------------+--------+\n",
      "|           player|sum(pts)|\n",
      "+-----------------+--------+\n",
      "|     LeBron James|   37062|\n",
      "|      Karl Malone|   36928|\n",
      "|      Kobe Bryant|   33643|\n",
      "|   Michael Jordan|   32292|\n",
      "|    Dirk Nowitzki|   31560|\n",
      "|  Carmelo Anthony|   30259|\n",
      "|    Eddie Johnson|   29779|\n",
      "| Shaquille O'Neal|   29428|\n",
      "|     Vince Carter|   28636|\n",
      "|Dominique Wilkins|   28591|\n",
      "|    Allen Iverson|   27457|\n",
      "|  Hakeem Olajuwon|   26946|\n",
      "|       Tim Duncan|   26496|\n",
      "|      Paul Pierce|   26397|\n",
      "|    Kevin Garnett|   26394|\n",
      "|        Ray Allen|   26218|\n",
      "|     James Harden|   25992|\n",
      "|     Kevin Durant|   25526|\n",
      "|    Reggie Miller|   25279|\n",
      "|    Patrick Ewing|   24818|\n",
      "+-----------------+--------+\n",
      "only showing top 20 rows\n",
      "\n"
     ]
    }
   ],
   "source": [
    "from pyspark.sql.functions import *\n",
    "spark = SparkSession(sc)\n",
    "players = spark.read.csv(path='Player Totals.csv',\n",
    "                        sep=',',\n",
    "                        encoding='UTF-8',\n",
    "                        comment=None,\n",
    "                        header=True, \n",
    "                        inferSchema=True)\n",
    "players = players.withColumn(\"pts\",players.pts.cast('int'))\n",
    "players = players.withColumn(\"x3pa\",players.x3pa.cast('int'))\n",
    "players = players.withColumn(\"mp\",players.mp.cast('int'))\n",
    "players.filter(players.season>=1980.0).groupBy('player').sum('pts').orderBy(desc(\"sum(pts)\"), \"player\").show()\n"
   ]
  },
  {
   "cell_type": "markdown",
   "id": "9155d21b",
   "metadata": {},
   "source": [
    "### Average number of 3 point attempts for each season"
   ]
  },
  {
   "cell_type": "code",
   "execution_count": 3,
   "id": "4d9e4b0d",
   "metadata": {},
   "outputs": [
    {
     "name": "stdout",
     "output_type": "stream",
     "text": [
      "+------+------------------+\n",
      "|season|          attempts|\n",
      "+------+------------------+\n",
      "|  1980|5.4671914061533124|\n",
      "|  1981|4.1234593389351115|\n",
      "|  1982|4.5528362515307546|\n",
      "|  1983| 4.419448170493302|\n",
      "|  1984| 4.742948486567318|\n",
      "|  1985|  6.18398593301025|\n",
      "|  1986| 6.731299146448014|\n",
      "|  1987|  9.23923006416132|\n",
      "|  1988|10.154621093580644|\n",
      "|  1989|12.989974796975638|\n",
      "|  1990|12.892851584835519|\n",
      "|  1991|14.080097336337367|\n",
      "|  1992|15.035523180807061|\n",
      "|  1993| 17.66776514775323|\n",
      "|  1994| 19.43920237739366|\n",
      "|  1995|30.694933412241596|\n",
      "|  1996|31.264142865879762|\n",
      "|  1997| 33.39959936822235|\n",
      "|  1998|25.645966673157005|\n",
      "|  1999|26.214823280788387|\n",
      "|  2000|27.239988311439674|\n",
      "|  2001|26.398075380914193|\n",
      "|  2002| 29.48435581315389|\n",
      "|  2003|29.282990573064914|\n",
      "|  2004|  29.1770800325145|\n",
      "|  2005|31.852439616045565|\n",
      "|  2006|31.872750716288024|\n",
      "|  2007|33.727102317187565|\n",
      "|  2008| 35.55370870558903|\n",
      "|  2009| 36.63350187571359|\n",
      "|  2010| 35.95124536301007|\n",
      "|  2011| 36.98485320628005|\n",
      "|  2012| 36.22693295843743|\n",
      "|  2013| 39.86144063477627|\n",
      "|  2014|43.030684220376585|\n",
      "|  2015| 44.88613911022772|\n",
      "|  2016| 48.02330170064831|\n",
      "|  2017| 54.09278903346298|\n",
      "|  2018| 57.80644681908318|\n",
      "|  2019| 64.23146095491009|\n",
      "|  2020| 68.15956143890416|\n",
      "|  2021| 68.22144756518944|\n",
      "|  2022| 69.82741637962425|\n",
      "+------+------------------+\n",
      "\n"
     ]
    }
   ],
   "source": [
    "players.filter(players.season>=1980.0).groupBy('season').agg((sum(\"x3pa\")/sum(\"mp\")*10*48).alias('attempts')).orderBy(asc(\"season\")).show(43)"
   ]
  },
  {
   "cell_type": "code",
   "execution_count": 4,
   "id": "f487a321",
   "metadata": {},
   "outputs": [],
   "source": [
    "three_point = players.filter(players.season>=1980.0).groupBy('season').agg((sum(\"x3pa\")/sum(\"mp\")*10*48).alias('attempts')).orderBy(asc(\"season\"))\n",
    "three_point = three_point.withColumn(\"attempts\",three_point.attempts.cast('float'))"
   ]
  },
  {
   "cell_type": "code",
   "execution_count": 5,
   "id": "303a1054",
   "metadata": {},
   "outputs": [],
   "source": [
    "from pyspark.ml.feature import VectorAssembler\n",
    "last17 = spark.createDataFrame(three_point.tail(17))\n",
    "vectorAssembler = VectorAssembler(inputCols = ['season'], outputCol = 'features')\n",
    "vhouse_df = vectorAssembler.transform(last17)\n",
    "vhouse_df = vhouse_df.select(['features', 'attempts'])"
   ]
  },
  {
   "cell_type": "code",
   "execution_count": 6,
   "id": "cc87ebbe",
   "metadata": {},
   "outputs": [],
   "source": [
    "import pyspark.ml.regression as pmr\n",
    "lr = pmr.LinearRegression(featuresCol = 'features', labelCol='attempts')\n",
    "lr_model = lr.fit(vhouse_df)\n",
    "years_forward = list(range(2023,2028))\n",
    "preds = []\n",
    "for i in years_forward:\n",
    "    preds.append(i*lr_model.coefficients[0]+lr_model.intercept)"
   ]
  },
  {
   "cell_type": "code",
   "execution_count": 7,
   "id": "5d5afd0b",
   "metadata": {},
   "outputs": [],
   "source": [
    "columns = ['season','attempts']\n",
    "for l in range(5):\n",
    "    a = years_forward[l]\n",
    "    b = float(preds[l])\n",
    "    newRow = spark.createDataFrame([(a,b)],columns)\n",
    "    three_point = three_point.union(newRow)"
   ]
  },
  {
   "cell_type": "markdown",
   "id": "59fa1d66",
   "metadata": {},
   "source": [
    "### Prediction for 5 next seasons"
   ]
  },
  {
   "cell_type": "code",
   "execution_count": 8,
   "id": "b20c52f2",
   "metadata": {},
   "outputs": [
    {
     "name": "stdout",
     "output_type": "stream",
     "text": [
      "+------+------------------+\n",
      "|season|          attempts|\n",
      "+------+------------------+\n",
      "|  1980| 5.467191219329834|\n",
      "|  1981| 4.123459339141846|\n",
      "|  1982|4.5528364181518555|\n",
      "|  1983| 4.419448375701904|\n",
      "|  1984| 4.742948532104492|\n",
      "|  1985| 6.183985710144043|\n",
      "|  1986| 6.731298923492432|\n",
      "|  1987| 9.239230155944824|\n",
      "|  1988|10.154621124267578|\n",
      "|  1989|12.989974975585938|\n",
      "|  1990|12.892851829528809|\n",
      "|  1991|14.080097198486328|\n",
      "|  1992|15.035523414611816|\n",
      "|  1993| 17.66776466369629|\n",
      "|  1994|  19.4392032623291|\n",
      "|  1995| 30.69493293762207|\n",
      "|  1996|31.264142990112305|\n",
      "|  1997|33.399600982666016|\n",
      "|  1998|25.645967483520508|\n",
      "|  1999| 26.21482276916504|\n",
      "|  2000|27.239988327026367|\n",
      "|  2001|26.398075103759766|\n",
      "|  2002|29.484355926513672|\n",
      "|  2003|29.282991409301758|\n",
      "|  2004|29.177080154418945|\n",
      "|  2005|31.852439880371094|\n",
      "|  2006|31.872751235961914|\n",
      "|  2007| 33.72710418701172|\n",
      "|  2008|35.553707122802734|\n",
      "|  2009| 36.63350296020508|\n",
      "|  2010| 35.95124435424805|\n",
      "|  2011|  36.9848518371582|\n",
      "|  2012|36.226932525634766|\n",
      "|  2013|  39.8614387512207|\n",
      "|  2014| 43.03068542480469|\n",
      "|  2015|44.886138916015625|\n",
      "|  2016| 48.02330017089844|\n",
      "|  2017| 54.09278869628906|\n",
      "|  2018| 57.80644607543945|\n",
      "|  2019| 64.23146057128906|\n",
      "|  2020| 68.15956115722656|\n",
      "|  2021| 68.22145080566406|\n",
      "|  2022|  69.8274154663086|\n",
      "|  2023| 70.43367910435882|\n",
      "|  2024| 72.99761220577057|\n",
      "|  2025|  75.5615453071814|\n",
      "|  2026| 78.12547840859224|\n",
      "|  2027| 80.68941151000399|\n",
      "+------+------------------+\n",
      "\n"
     ]
    }
   ],
   "source": [
    "three_point.show(48)"
   ]
  },
  {
   "cell_type": "code",
   "execution_count": null,
   "id": "48ec7a7c",
   "metadata": {},
   "outputs": [],
   "source": []
  }
 ],
 "metadata": {
  "kernelspec": {
   "display_name": "Python 3",
   "language": "python",
   "name": "python3"
  },
  "language_info": {
   "codemirror_mode": {
    "name": "ipython",
    "version": 3
   },
   "file_extension": ".py",
   "mimetype": "text/x-python",
   "name": "python",
   "nbconvert_exporter": "python",
   "pygments_lexer": "ipython3",
   "version": "3.6.8"
  }
 },
 "nbformat": 4,
 "nbformat_minor": 5
}
