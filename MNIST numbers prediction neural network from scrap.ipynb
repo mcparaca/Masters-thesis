{
 "cells": [
  {
   "cell_type": "code",
   "execution_count": 9,
   "id": "4f0079d0",
   "metadata": {},
   "outputs": [],
   "source": [
    "import pickle\n",
    "import gzip\n",
    "import numpy as np\n",
    "\n",
    "def load_data():\n",
    "    \"\"\"Return the MNIST data as a tuple containing the training data,\n",
    "    the validation data, and the test data.\n",
    "    The ``training_data`` is returned as a tuple with two entries.\n",
    "    The first entry contains the actual training images.  This is a\n",
    "    numpy ndarray with 50,000 entries.  Each entry is, in turn, a\n",
    "    numpy ndarray with 784 values, representing the 28 * 28 = 784\n",
    "    pixels in a single MNIST image.\n",
    "    The second entry in the ``training_data`` tuple is a numpy ndarray\n",
    "    containing 50,000 entries.  Those entries are just the digit\n",
    "    values (0...9) for the corresponding images contained in the first\n",
    "    entry of the tuple.\n",
    "    The ``validation_data`` and ``test_data`` are similar, except\n",
    "    each contains only 10,000 images.\n",
    "    This is a nice data format, but for use in neural networks it's\n",
    "    helpful to modify the format of the ``training_data`` a little.\n",
    "    That's done in the wrapper function ``load_data_wrapper()``, see\n",
    "    below.\n",
    "    \"\"\"\n",
    "    f = gzip.open('mnist.pkl.gz', 'rb')\n",
    "    training_data, validation_data, test_data = pickle.load(f, encoding=\"latin1\")\n",
    "    f.close()\n",
    "    return (training_data, validation_data, test_data)\n",
    "\n",
    "def vectorized_result(j):\n",
    "    \"\"\"Return a 10-dimensional unit vector with a 1.0 in the jth\n",
    "    position and zeroes elsewhere.  This is used to convert a digit\n",
    "    (0...9) into a corresponding desired output from the neural\n",
    "    network.\"\"\"\n",
    "    e = np.zeros((10, 1))\n",
    "    e[j] = 1.0\n",
    "    return e\n",
    "\n",
    "def unison_shuffled_copies(a, b):\n",
    "    assert len(a) == len(b)\n",
    "    p = np.random.permutation(len(a))\n",
    "    return a[p], b[p]\n",
    "\n",
    "def prepare_data(data):\n",
    "    X_train = data[0][0]\n",
    "    y_train = data[0][1]\n",
    "    X_test = data[1][0]\n",
    "    y_test = data[1][1]\n",
    "    X_test_2 = data[2][0]\n",
    "    y_test_2 = data[2][1]\n",
    "    vector_y = []\n",
    "    vector_y_test = []\n",
    "    vector_y_test_2 = []\n",
    "    X_train = X_train.reshape(X_train.shape[0], 1, 784)\n",
    "    X_train = X_train.astype('float32')\n",
    "    X_train /= 255\n",
    "    X_test = X_test.reshape(X_test.shape[0], 1, 784)\n",
    "    X_test = X_test.astype('float32')\n",
    "    X_test /= 255\n",
    "    X_test_2 = X_test_2.reshape(X_test_2.shape[0], 1, 784)\n",
    "    X_test_2 = X_test_2.astype('float32')\n",
    "    X_test_2 /= 255\n",
    "    for i in range(len(y_train)):\n",
    "        vector_y.append(list(vectorized_result(y_train[i]).T[0]))\n",
    "    for i in range(len(y_test)):\n",
    "        vector_y_test.append(list(vectorized_result(y_test[i]).T[0]))\n",
    "    for i in range(len(y_test_2)):\n",
    "        vector_y_test_2.append(list(vectorized_result(y_test_2[i]).T[0]))\n",
    "    vector_y = np.array(vector_y)\n",
    "    y_train = vector_y.astype('float32')\n",
    "    vector_y_test = np.array(vector_y_test)\n",
    "    y_test = vector_y_test.astype('float32')\n",
    "    vector_y_test_2 = np.array(vector_y_test_2)\n",
    "    y_test_2 = vector_y_test_2.astype('float32')\n",
    "    return X_train, X_test, X_test_2, y_train, y_test, y_test_2 "
   ]
  },
  {
   "cell_type": "code",
   "execution_count": 13,
   "id": "af4c3b5f",
   "metadata": {},
   "outputs": [],
   "source": [
    "class Layer:\n",
    "    def __init__(self, inputs, outputs):\n",
    "        self.weights = np.random.randn(inputs, outputs)/np.sqrt(inputs)\n",
    "        self.bias = np.random.randn(1, outputs)\n",
    "\n",
    "    def forward(self, input_data):\n",
    "        self.input = input_data\n",
    "        self.output = self.input @ self.weights + self.bias\n",
    "        return self.output\n",
    "\n",
    "    def backward(self, output_error, c):\n",
    "        input_error = output_error @ self.weights.T\n",
    "        weights_error = self.input.T @ output_error\n",
    "        self.weights -= c * weights_error\n",
    "        self.bias -= c * output_error\n",
    "        return input_error"
   ]
  },
  {
   "cell_type": "code",
   "execution_count": 14,
   "id": "247faa8f",
   "metadata": {},
   "outputs": [],
   "source": [
    "class ActivationFunction:\n",
    "    def __init__(self, activation, activation_deriv):\n",
    "        self.activation = activation\n",
    "        self.activation_deriv = activation_deriv\n",
    "\n",
    "    def forward(self, input_data):\n",
    "        self.input = input_data\n",
    "        self.output = self.activation(self.input)\n",
    "        return self.output\n",
    "\n",
    "    def backward(self, output_error, c):\n",
    "        return self.activation_deriv(self.input) * output_error\n",
    "    \n",
    "def activ(x):\n",
    "    return np.tanh(x)\n",
    "\n",
    "def derivative(x):\n",
    "    return 1-np.tanh(x)**2\n",
    "\n",
    "def loss_function(y_t, y_p):\n",
    "    return np.mean(y_t-y_p ** 2)\n",
    "\n",
    "def derivative_loss(y_t, y_p):\n",
    "    return 2*(y_p-y_t)/y_t.size"
   ]
  },
  {
   "cell_type": "code",
   "execution_count": 15,
   "id": "46807bbc",
   "metadata": {},
   "outputs": [],
   "source": [
    "class Network:\n",
    "    def __init__(self, loss, loss_der):\n",
    "        self.layers = []\n",
    "        self.loss = loss\n",
    "        self.loss_der = loss_der\n",
    "\n",
    "    def add(self, layer):\n",
    "        self.layers.append(layer)\n",
    "\n",
    "    def predict(self, input_data):\n",
    "        result = []\n",
    "        for i in range(len(input_data)):\n",
    "            output = input_data[i]\n",
    "            for layer in self.layers:\n",
    "                output = layer.forward(output)\n",
    "            result.append(output)\n",
    "        return result\n",
    "\n",
    "    def train(self, X, y, loops, c):\n",
    "        for i in range(loops):\n",
    "            X,y = unison_shuffled_copies(X, y)\n",
    "            for j in range(len(X)):\n",
    "                output = X[j]\n",
    "                for layer in self.layers:\n",
    "                    output = layer.forward(output)\n",
    "\n",
    "                error = self.loss_der(y[j], output)\n",
    "                for layer in reversed(self.layers):\n",
    "                    error = layer.backward(error, c)"
   ]
  },
  {
   "cell_type": "code",
   "execution_count": 5,
   "id": "51b5fa3d",
   "metadata": {},
   "outputs": [],
   "source": [
    "data = load_data()"
   ]
  },
  {
   "cell_type": "code",
   "execution_count": 10,
   "id": "1366ff9c",
   "metadata": {},
   "outputs": [],
   "source": [
    "X_train, X_test, X_test_2, y_train, y_test, y_test_2 = prepare_data(data)"
   ]
  },
  {
   "cell_type": "code",
   "execution_count": 22,
   "id": "47ac7f2d",
   "metadata": {},
   "outputs": [],
   "source": [
    "net = Network(loss_function, derivative_loss)\n",
    "net.add(Layer(784, 50))               \n",
    "net.add(ActivationFunction(activ, derivative))\n",
    "net.add(Layer(50, 10))                         \n",
    "net.add(ActivationFunction(activ, derivative))\n",
    "net.train(X_train, y_train, loops=30, c=0.1)"
   ]
  },
  {
   "cell_type": "code",
   "execution_count": 23,
   "id": "eadf74bf",
   "metadata": {},
   "outputs": [
    {
     "name": "stdout",
     "output_type": "stream",
     "text": [
      "8354\n"
     ]
    }
   ],
   "source": [
    "verification = []\n",
    "for i in range(10000):\n",
    "    predicted = np.argmax(net.predict(X_test[i])[0][0], axis=0)\n",
    "    true = np.argmax(y_test[i], axis=0)\n",
    "    if predicted == true:\n",
    "        verification.append(1)\n",
    "    else:\n",
    "        verification.append(0)\n",
    "        \n",
    "    \n",
    "\n",
    "\n",
    "\n",
    "print(sum(verification))\n"
   ]
  },
  {
   "cell_type": "code",
   "execution_count": 24,
   "id": "f880cafb",
   "metadata": {},
   "outputs": [
    {
     "name": "stdout",
     "output_type": "stream",
     "text": [
      "8254\n"
     ]
    }
   ],
   "source": [
    "verification_2 = []\n",
    "for i in range(10000):\n",
    "    predicted_2 = np.argmax(net.predict(X_test_2[i])[0][0], axis=0)\n",
    "    true_2 = np.argmax(y_test_2[i], axis=0)\n",
    "    if predicted_2 == true_2:\n",
    "        verification_2.append(1)\n",
    "    else:\n",
    "        verification_2.append(0)\n",
    "        \n",
    "    \n",
    "\n",
    "\n",
    "\n",
    "print(sum(verification_2))\n"
   ]
  },
  {
   "cell_type": "code",
   "execution_count": null,
   "id": "70874630",
   "metadata": {},
   "outputs": [],
   "source": []
  }
 ],
 "metadata": {
  "kernelspec": {
   "display_name": "Python 3",
   "language": "python",
   "name": "python3"
  },
  "language_info": {
   "codemirror_mode": {
    "name": "ipython",
    "version": 3
   },
   "file_extension": ".py",
   "mimetype": "text/x-python",
   "name": "python",
   "nbconvert_exporter": "python",
   "pygments_lexer": "ipython3",
   "version": "3.6.8"
  }
 },
 "nbformat": 4,
 "nbformat_minor": 5
}
