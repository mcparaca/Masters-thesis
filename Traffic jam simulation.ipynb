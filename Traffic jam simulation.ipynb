{
 "cells": [
  {
   "cell_type": "code",
   "execution_count": 3,
   "id": "4b7a1da5",
   "metadata": {},
   "outputs": [],
   "source": [
    "import random as rnd\n",
    "import matplotlib.pyplot as plt\n",
    "from matplotlib import animation\n",
    "import numpy as np\n",
    "import os\n",
    "import imageio"
   ]
  },
  {
   "cell_type": "code",
   "execution_count": 4,
   "id": "85063d26",
   "metadata": {},
   "outputs": [],
   "source": [
    "def initialization(L, rho):\n",
    "    \"\"\"\n",
    "    Function initializes the cars on the road of length L accordingly to the density parameter,\n",
    "    The information about the cars is stored in a list of three-element lists, where each value \n",
    "    corresponds to the position of a car, its speed and its colour.\n",
    "    \n",
    "    Arguments:\n",
    "    L - length of the road - integer\n",
    "    rho - density of the road - float from range [0,1]\n",
    "    \n",
    "    Function returns the list of cars, positions and colors\n",
    "    \"\"\"\n",
    "    road = list(range(L))\n",
    "    cars = []\n",
    "    for i in road:\n",
    "        rand = rnd.random()\n",
    "        if rand < rho:\n",
    "            cars.append([i,0])\n",
    "    positions = []\n",
    "    color = np.linspace(0,len(cars)-1,len(cars))\n",
    "    for k in range(len(cars)):\n",
    "            positions.append(cars[k][0])\n",
    "            cars[k] = [cars[k][0],cars[k][1],color[k]]\n",
    "    return cars, positions, color\n",
    "\n",
    "def animate(L, p , v_max, cars, positions,color, steps = 100, visualize = True):\n",
    "    \"\"\"\n",
    "    Function simulates and animates the Nagel-Schreckenberg model of traffic, where the cars on the road are moving,\n",
    "    accelerating and slowing down accordingly to the rules of the model. \n",
    "    \n",
    "    Arguments:\n",
    "    L - length of the road - integer\n",
    "    rho - density of the road - float from range [0,1]\n",
    "    v_max - maximum velocity of a car - integer\n",
    "    cars - list of the cars' attributes on the road\n",
    "    positions - list of the cars' positions\n",
    "    color - list of the cars' colors\n",
    "    steps - number of steps of the animation - integer\n",
    "    visualize - True if the figures are to be made, False otherwise - boolean\n",
    "    \n",
    "    Function returns the average velocity of all cars of the average calculated at each timestep\n",
    "    \"\"\"\n",
    "    if visualize == True:\n",
    "        plt.scatter(positions, np.ones(len(positions)), c=color)\n",
    "        plt.title(\"Nagel-Schreckenberg model\")\n",
    "        plt.xlim(0,100)\n",
    "        fig = plt.gcf()\n",
    "        fig.savefig(\"Figure\" + str(0) + \".png\",dpi = 200)\n",
    "        plt.close()\n",
    "    avg_speed = []\n",
    "    for z in range(100):\n",
    "        speeds = []\n",
    "        for c1 in range(len(cars)):#1 step\n",
    "                cars[c1]=[cars[c1][0],cars[c1][1], cars[c1][2]]\n",
    "                if cars[c1][1] != v_max:\n",
    "                    cars[c1][1] += 1\n",
    "        new_pos = []\n",
    "        for c2 in range(len(cars)):  #2 step  \n",
    "            if c2 == len(cars)-1:\n",
    "                new_pos.append(min(cars[0][0] - cars[c2][0]+L-1, cars[c2][1]))   \n",
    "            else:\n",
    "                new_pos.append(min(abs(cars[c2+1][0] - cars[c2][0])-1, cars[c2][1])) \n",
    "        for i in range(len(new_pos)):\n",
    "            cars[i][1] = new_pos[i]\n",
    "        for c3 in cars:#3 step\n",
    "            rand2= rnd.random()\n",
    "            if rand2<p and c3[1] > 0:\n",
    "                c3[1]-=1\n",
    "        for c4 in cars:#4 step\n",
    "            c4[0]+=c4[1]\n",
    "            c4[0] = c4[0]%L\n",
    "            speeds.append(c4[1])\n",
    "        avg_speed.append(np.mean(speeds))\n",
    "        cars = sorted(cars, key=lambda x: x[0])\n",
    "        positions = []\n",
    "        for k in cars:\n",
    "            positions.append(k[0])\n",
    "        colors = []\n",
    "        for col in cars:\n",
    "            colors.append(col[2])\n",
    "        if visualize == True:\n",
    "            plt.scatter(positions, np.ones(len(positions)), c=colors)\n",
    "            plt.title(\"Nagel-Schreckenberg model\")\n",
    "            plt.xlim(0,100)\n",
    "            fig = plt.gcf()\n",
    "            fig.savefig(\"Figure\" + str(z+1) + \".png\",dpi = 200)\n",
    "            plt.close()\n",
    "    avg_velocity = np.mean(avg_speed)\n",
    "    return avg_velocity\n",
    "\n",
    "def create_gif(path, duration):\n",
    "    \"\"\"\n",
    "    Function creates gif from the images that are already in the given directory\n",
    "    \n",
    "    Arguments: \n",
    "    path - path where the images are being stored - string\n",
    "    duration - duration in seconds of a each step of the simulation in the gif\n",
    "    \n",
    "    Function only creates gif and doesn't return anything.\n",
    "    \"\"\"\n",
    "    images = []\n",
    "    dirs = os.listdir(path)\n",
    "    new_images = sorted(dirs, key = len)\n",
    "    for file in new_images:\n",
    "        if file.endswith(\".png\"):\n",
    "                images.append(imageio.imread(file))\n",
    "    kargs = { 'duration': duration }\n",
    "    imageio.mimsave(path+\"\\\\gif1.gif\", images,**kargs) "
   ]
  },
  {
   "cell_type": "code",
   "execution_count": 5,
   "id": "29d11df4",
   "metadata": {},
   "outputs": [
    {
     "data": {
      "text/plain": [
       "0.23415384615384613"
      ]
     },
     "execution_count": 5,
     "metadata": {},
     "output_type": "execute_result"
    }
   ],
   "source": [
    "L = 100\n",
    "rho = 0.6\n",
    "v_max = 5\n",
    "p = 0.5\n",
    "\n",
    "road = initialization(L,rho)\n",
    "animate(L,p,v_max,road[0], road[1], road[2], 100, True)\n"
   ]
  },
  {
   "cell_type": "code",
   "execution_count": 43,
   "id": "23c4ab67",
   "metadata": {},
   "outputs": [],
   "source": [
    "create_gif(\"C:\\\\Users\\\\user\\\\Desktop\\\\Applied mathematics\\\\Semestr 2\\\\Agent based modelling\\\\Untitled folder\", 0.1)"
   ]
  },
  {
   "cell_type": "code",
   "execution_count": 6,
   "id": "7ba9cefb",
   "metadata": {},
   "outputs": [],
   "source": [
    "rhos = list(range(5,105,5))\n",
    "rhos = [i/100 for i in rhos]  \n",
    "velocitiesp02=[]\n",
    "velocitiesp03=[]\n",
    "velocitiesp05=[]\n",
    "for i in rhos:\n",
    "    road02 = initialization(L,i)\n",
    "    velocitiesp02.append(animate(L,0.2,v_max,road02[0], road02[1], road02[2],100, False))\n",
    "    road03 = initialization(L,i)\n",
    "    velocitiesp03.append(animate(L,0.3,v_max,road03[0], road03[1], road03[2],100, False))\n",
    "    road05 = initialization(L,i)\n",
    "    velocitiesp05.append(animate(L,0.5,v_max,road05[0], road05[1], road05[2],100, False))\n"
   ]
  },
  {
   "cell_type": "code",
   "execution_count": 7,
   "id": "04c6c273",
   "metadata": {},
   "outputs": [
    {
     "data": {
      "image/png": "[encoded data removed]",
      "text/plain": [
       "<Figure size 432x288 with 1 Axes>"
      ]
     },
     "metadata": {
      "needs_background": "light"
     },
     "output_type": "display_data"
    }
   ],
   "source": [
    "plt.figure()\n",
    "plt.plot(rhos,velocitiesp02,'-o',markersize=2,color = \"blue\",label='p=0.2')\n",
    "plt.plot(rhos,velocitiesp03,'-o',markersize=2,color = \"red\",label='p=0.3')\n",
    "plt.plot(rhos,velocitiesp05,'-o',markersize=2,color = \"green\",label='p=0.5')\n",
    "plt.legend()\n",
    "plt.ylabel(\"Average speed\")\n",
    "plt.xlabel(\"Density of cars on the road\")\n",
    "plt.title(\"Average speed vs density of cars\")\n",
    "fig = plt.gcf()\n",
    "fig.savefig(\"Average speed vs density.png\",dpi = 500)\n",
    "plt.show()"
   ]
  },
  {
   "cell_type": "code",
   "execution_count": null,
   "id": "8df0d184",
   "metadata": {},
   "outputs": [],
   "source": []
  }
 ],
 "metadata": {
  "kernelspec": {
   "display_name": "Python 3",
   "language": "python",
   "name": "python3"
  },
  "language_info": {
   "codemirror_mode": {
    "name": "ipython",
    "version": 3
   },
   "file_extension": ".py",
   "mimetype": "text/x-python",
   "name": "python",
   "nbconvert_exporter": "python",
   "pygments_lexer": "ipython3",
   "version": "3.6.8"
  }
 },
 "nbformat": 4,
 "nbformat_minor": 5
}
