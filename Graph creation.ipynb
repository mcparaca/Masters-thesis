{
 "cells": [
  {
   "cell_type": "markdown",
   "metadata": {},
   "source": [
    "# List 3"
   ]
  },
  {
   "cell_type": "markdown",
   "metadata": {},
   "source": [
    "## Exercise 1"
   ]
  },
  {
   "cell_type": "code",
   "execution_count": 1,
   "metadata": {},
   "outputs": [],
   "source": [
    "%matplotlib inline"
   ]
  },
  {
   "cell_type": "code",
   "execution_count": 2,
   "metadata": {},
   "outputs": [],
   "source": [
    "import random as rnd\n",
    "import warnings\n",
    "import networkx as nx\n",
    "import pydot\n",
    "import numpy as np\n",
    "import urllib.request\n",
    "import matplotlib.pyplot as plt\n",
    "import scipy\n",
    "import plotly.express as px\n",
    "import plotly.graph_objects as go\n",
    "from sklearn.neighbors import KernelDensity\n",
    "from scipy.special import binom\n",
    "from math import factorial\n",
    "from scipy.stats import poisson\n",
    "from collections import OrderedDict\n",
    "from scipy.interpolate import UnivariateSpline\n",
    "from sklearn.linear_model import LinearRegression\n",
    "warnings.filterwarnings(\"ignore\")"
   ]
  },
  {
   "cell_type": "code",
   "execution_count": 3,
   "metadata": {},
   "outputs": [],
   "source": [
    "from networkx.drawing.nx_pydot import write_dot, read_dot"
   ]
  },
  {
   "cell_type": "markdown",
   "metadata": {},
   "source": [
    "### Function for frequency plot"
   ]
  },
  {
   "cell_type": "code",
   "execution_count": 4,
   "metadata": {},
   "outputs": [],
   "source": [
    "def frequency_plot(graph, bins = 20, xlog = False):\n",
    "    \"\"\"\n",
    "    Function draws a frequency plot (histogram) of node's degrees of a given graph\n",
    "    \n",
    "    Key arguments:\n",
    "    graph -- networkx graph object \n",
    "    bins -- number of bins of histogram (int)\n",
    "    xlog -- (boolean) if set to True, shows histogram with logarithmic scale on axis X, normal axis otherwise\n",
    "    \n",
    "    Function does not return anything\n",
    "    \"\"\"\n",
    "    degrees = dict(graph.degree())\n",
    "    list_of_degrees = degrees.values()\n",
    "    fig, ax = plt.subplots()\n",
    "    unique_bins = set(list_of_degrees)\n",
    "    if xlog == True:\n",
    "        plt.hist(list_of_degrees, bins, log = True)\n",
    "    else:    \n",
    "        plt.hist(list_of_degrees, bins,density = True)\n",
    "    ax.set_xlabel('Degrees')\n",
    "    ax.set_ylabel('Frequency of occurence')\n",
    "    ax.set_title('Frequency plot of degrees')\n",
    "    fig.tight_layout()\n",
    "    plt.show()"
   ]
  },
  {
   "cell_type": "markdown",
   "metadata": {},
   "source": [
    "### Random Graph"
   ]
  },
  {
   "cell_type": "code",
   "execution_count": 60,
   "metadata": {},
   "outputs": [],
   "source": [
    "def random_graph_nx(N, p):\n",
    "    \"\"\"\n",
    "    Function creates a random graph with a given parameters according to Edgar Gilbert's algorithm\n",
    "    \n",
    "    Key arguments:\n",
    "    N -- number of nodes in the graph (integer)\n",
    "    p -- probability of connection between each two nodes of the graph (float within [0, 1])\n",
    "    \n",
    "    Function returns networkx graph object\n",
    "    \"\"\"\n",
    "    graph = nx.Graph()\n",
    "    for i in range(1, N+1):\n",
    "        graph.add_node(i)\n",
    "    for j in range(1, N+1):\n",
    "        for k in range(j+1, N+1):\n",
    "            random_number = rnd.random()\n",
    "            if random_number < p:\n",
    "                graph.add_edge(j, k)\n",
    "    return graph"
   ]
  },
  {
   "cell_type": "code",
   "execution_count": 61,
   "metadata": {},
   "outputs": [],
   "source": [
    "N = 1100\n",
    "p = 0.3\n",
    "G = random_graph_nx(N, p)"
   ]
  },
  {
   "cell_type": "code",
   "execution_count": 62,
   "metadata": {},
   "outputs": [
    {
     "data": {
      "text/plain": [
       "1100"
      ]
     },
     "execution_count": 62,
     "metadata": {},
     "output_type": "execute_result"
    }
   ],
   "source": [
    "G.number_of_nodes()"
   ]
  },
  {
   "cell_type": "code",
   "execution_count": 63,
   "metadata": {},
   "outputs": [
    {
     "data": {
      "text/plain": [
       "181371"
      ]
     },
     "execution_count": 63,
     "metadata": {},
     "output_type": "execute_result"
    }
   ],
   "source": [
    "G.number_of_edges()"
   ]
  },
  {
   "cell_type": "code",
   "execution_count": 64,
   "metadata": {},
   "outputs": [
    {
     "data": {
      "image/png": "[encoded data removed]",
      "text/plain": [
       "<Figure size 432x288 with 1 Axes>"
      ]
     },
     "metadata": {
      "needs_background": "light"
     },
     "output_type": "display_data"
    }
   ],
   "source": [
    "frequency_plot(G)"
   ]
  },
  {
   "cell_type": "markdown",
   "metadata": {},
   "source": [
    "#### Average degree and variance of distribution"
   ]
  },
  {
   "cell_type": "code",
   "execution_count": 65,
   "metadata": {},
   "outputs": [
    {
     "name": "stdout",
     "output_type": "stream",
     "text": [
      "Average degree:  329.765\n"
     ]
    }
   ],
   "source": [
    "degrees = dict(G.degree())\n",
    "kaver = sum(degrees.values())/len(G)\n",
    "print(\"Average degree: \", round(kaver,3))"
   ]
  },
  {
   "cell_type": "code",
   "execution_count": 66,
   "metadata": {},
   "outputs": [
    {
     "name": "stdout",
     "output_type": "stream",
     "text": [
      "Variance of the degrees:  223.15\n"
     ]
    }
   ],
   "source": [
    "dgr = list(G.degree())\n",
    "dgr_list = []\n",
    "for i in dgr:\n",
    "    dgr_list.append(i[1])\n",
    "print(\"Variance of the degrees: \", np.round(np.var(dgr_list), 2))"
   ]
  },
  {
   "cell_type": "code",
   "execution_count": null,
   "metadata": {},
   "outputs": [],
   "source": [
    "nx.draw_circular(G)"
   ]
  },
  {
   "cell_type": "code",
   "execution_count": 12,
   "metadata": {},
   "outputs": [],
   "source": [
    "write_dot(G, \"random_graph.dot\")"
   ]
  },
  {
   "cell_type": "markdown",
   "metadata": {},
   "source": [
    "### Binomial and Poisson"
   ]
  },
  {
   "cell_type": "code",
   "execution_count": 67,
   "metadata": {},
   "outputs": [
    {
     "data": {
      "image/png": "[encoded data removed]",
      "text/plain": [
       "<Figure size 576x432 with 1 Axes>"
      ]
     },
     "metadata": {
      "needs_background": "light"
     },
     "output_type": "display_data"
    }
   ],
   "source": [
    "##Warning! Works only for a specified vlaue of N:\n",
    "#Poisson up to N = 180\n",
    "#Binomial up to N = 1150\n",
    "\n",
    "kaver = int(p*(N-1))\n",
    "kvals1 = np.arange(1, N+1)\n",
    "\n",
    "degrees = dict(G.degree())\n",
    "list_of_degrees = degrees.values()\n",
    "unique_bins = set(list_of_degrees)\n",
    "\n",
    "#poi1 = np.zeros(N, dtype=float)\n",
    "bpoi1 = np.zeros(N, dtype=float)\n",
    "\n",
    "#for k in np.arange(1,max(list_of_degrees)):\n",
    " #   ki = int(k)\n",
    "  #  poi1[k-1] = np.exp(-kaver)*(kaver**ki)/((np.sqrt(2*np.pi*ki))*((ki/np.exp(1)))**ki)\n",
    "\n",
    "pk1 = np.zeros(N,dtype=float)\n",
    "for k in kvals1:\n",
    "    pk1[k-1] = binom(N-1,k)*(p**k)*(1-p)**(N-1-k)\n",
    "    \n",
    "\n",
    "fig = plt.figure(figsize=(8,6))\n",
    "ax  = fig.add_subplot(111)\n",
    "\n",
    "plt.plot(kvals1,pk1,label='Binomial')\n",
    "#plt.plot(kvals1,poi1,'ro',label='Poisson')\n",
    "plt.hist(list_of_degrees, int(len(unique_bins)*0.5), density = True)\n",
    "plt.title(\"Distribution fitting with number of nodes equal to N={}\".format(N))\n",
    "plt.xlim(200,500)\n",
    "plt.xlabel('degree')\n",
    "plt.ylabel('degree distribution')\n",
    "plt.legend()\n",
    "plt.show()"
   ]
  },
  {
   "cell_type": "markdown",
   "metadata": {},
   "source": [
    "## Watts-Strogatz Graph"
   ]
  },
  {
   "cell_type": "code",
   "execution_count": 68,
   "metadata": {},
   "outputs": [],
   "source": [
    "def watts_strogatz(N, K, p):\n",
    "    \"\"\"\n",
    "    Function creates Watts-Strogatz graph with a given parameters. At the start we have N nodes connected with K/2 neighbors\n",
    "    on the left and K/2 neighbors on the right, and we rewire each edge of the node with a given probability\n",
    "    \n",
    "    Key arguments:\n",
    "    N -- number of nodes (integer)\n",
    "    K -- connections between a node and its closest neighbors on the left and right side, (even integer)\n",
    "    p -- probability of rewiring the edge from one node to another (float within [0, 1])\n",
    "    \n",
    "    The function returns Watts-Strogatz graph as a networkx object\n",
    "    \"\"\"\n",
    "    graph = nx.Graph()\n",
    "    for i in range(1, N+1):\n",
    "        graph.add_node(i)\n",
    "    for j in range(1, N+1):\n",
    "        for k in range(j+1, N+1):\n",
    "            if abs(j-k)%(N - K/2) <= K/2:\n",
    "                graph.add_edge(j, k)\n",
    "    for i in graph.nodes():\n",
    "        edges = list(graph.edges(i))\n",
    "        directions = [i]\n",
    "        for k in edges:\n",
    "            directions.append(k[1])\n",
    "        for m in edges:\n",
    "            random_number = rnd.random()\n",
    "            if random_number < p:\n",
    "                graph.remove_edge(i, m[1])\n",
    "                rewired = rnd.randint(1, N)\n",
    "                while (rewired in directions):\n",
    "                    rewired = rnd.randint(1, N)\n",
    "                graph.add_edge(i, rewired)\n",
    "                directions = [i]\n",
    "                edg = list(graph.edges(i))\n",
    "                for s in edg:\n",
    "                    directions.append(s[1])\n",
    "    return graph"
   ]
  },
  {
   "cell_type": "code",
   "execution_count": 100,
   "metadata": {},
   "outputs": [],
   "source": [
    "N = 2000\n",
    "K = 10\n",
    "p = 0.5\n",
    "watts = watts_strogatz(N, K, p)"
   ]
  },
  {
   "cell_type": "code",
   "execution_count": null,
   "metadata": {},
   "outputs": [],
   "source": [
    "nx.draw_circular(watts, with_labels = True)"
   ]
  },
  {
   "cell_type": "code",
   "execution_count": 85,
   "metadata": {},
   "outputs": [
    {
     "data": {
      "text/plain": [
       "2000"
      ]
     },
     "execution_count": 85,
     "metadata": {},
     "output_type": "execute_result"
    }
   ],
   "source": [
    "watts.number_of_nodes()"
   ]
  },
  {
   "cell_type": "code",
   "execution_count": 86,
   "metadata": {},
   "outputs": [
    {
     "data": {
      "text/plain": [
       "20000"
      ]
     },
     "execution_count": 86,
     "metadata": {},
     "output_type": "execute_result"
    }
   ],
   "source": [
    "watts.number_of_edges()"
   ]
  },
  {
   "cell_type": "code",
   "execution_count": 72,
   "metadata": {},
   "outputs": [
    {
     "data": {
      "image/png": "[encoded data removed]",
      "text/plain": [
       "<Figure size 432x288 with 1 Axes>"
      ]
     },
     "metadata": {
      "needs_background": "light"
     },
     "output_type": "display_data"
    }
   ],
   "source": [
    "frequency_plot(watts)"
   ]
  },
  {
   "cell_type": "markdown",
   "metadata": {},
   "source": [
    "### Average degree and variance of distribution\n"
   ]
  },
  {
   "cell_type": "code",
   "execution_count": 101,
   "metadata": {},
   "outputs": [
    {
     "name": "stdout",
     "output_type": "stream",
     "text": [
      "Average degree:  10.0\n"
     ]
    }
   ],
   "source": [
    "degrees_watts = dict(watts.degree())\n",
    "kaver_watts = sum(degrees_watts.values())/len(watts)\n",
    "print(\"Average degree: \", round(kaver_watts,3))"
   ]
  },
  {
   "cell_type": "code",
   "execution_count": 102,
   "metadata": {},
   "outputs": [
    {
     "name": "stdout",
     "output_type": "stream",
     "text": [
      "Variance of the degrees for Watts-Strogatz graph:  7.22\n"
     ]
    }
   ],
   "source": [
    "dgr_watts = list(watts.degree())\n",
    "dgr_list_watts = []\n",
    "for i in dgr_watts:\n",
    "    dgr_list_watts.append(i[1])\n",
    "print(\"Variance of the degrees for Watts-Strogatz graph: \", np.round(np.var(dgr_list_watts), 2))"
   ]
  },
  {
   "cell_type": "code",
   "execution_count": 78,
   "metadata": {},
   "outputs": [],
   "source": [
    "write_dot(watts, \"Watts-Strogatz_Graph.dot\")"
   ]
  },
  {
   "cell_type": "markdown",
   "metadata": {},
   "source": [
    "### Fitting degree distribution"
   ]
  },
  {
   "cell_type": "code",
   "execution_count": 103,
   "metadata": {},
   "outputs": [
    {
     "data": {
      "image/png": "[encoded data removed]",
      "text/plain": [
       "<Figure size 576x432 with 1 Axes>"
      ]
     },
     "metadata": {
      "needs_background": "light"
     },
     "output_type": "display_data"
    }
   ],
   "source": [
    "kvals = np.arange(1, N+1)\n",
    "pk = np.zeros(N, dtype=float)\n",
    "\n",
    "degrees = dict(watts.degree())\n",
    "list_of_degrees = degrees.values()\n",
    "unique_bins = set(list_of_degrees)\n",
    "\n",
    "\n",
    "for k in kvals:\n",
    "    ki = int(k)\n",
    "    pk_sum = []    \n",
    "    for n in range(0, int(min(k - K/2, K/2))):\n",
    "        if k< 2*max(list_of_degrees):\n",
    "            pk_sum.append(binom(K/2, n) * (1-p)**n * p**(K/2 - n) * ((p*K/2)**(k-n-K/2))/(factorial(k - n - K/2))*np.exp(-p*K/2)) \n",
    "        else:\n",
    "            pk_sum.append(0)\n",
    "    pk[k-1] = sum(pk_sum)\n",
    "\n",
    "fig = plt.figure(figsize=(8,6))\n",
    "#ax  = fig.add_subplot(111)\n",
    "\n",
    "plt.hist(list_of_degrees, int(len(unique_bins)), density = True)\n",
    "plt.plot(kvals, pk, label='Fitted distr')\n",
    "plt.title(\"Distribution fitting with number of nodes equal to N={}\".format(N))\n",
    "plt.xlim(0, 3*K)\n",
    "plt.xlabel('degree')\n",
    "plt.ylabel('degree distribution')\n",
    "plt.legend()\n",
    "plt.show()\n"
   ]
  },
  {
   "cell_type": "markdown",
   "metadata": {},
   "source": [
    "## Barabasi-Albert Graph"
   ]
  },
  {
   "cell_type": "code",
   "execution_count": 29,
   "metadata": {},
   "outputs": [],
   "source": [
    "def barabasi_albert(m0, N, m):\n",
    "    \"\"\"\n",
    "    Function creates Barabasi-Albert graph with the given parameters. At the start we have m0 linked nodes. At each time step \n",
    "    we add a node with m links to the existing network. The probability of connection to each of the nodes is proportional to\n",
    "    the degree of the node.\n",
    "    \n",
    "    Key arguments:\n",
    "    m0 -- Number of nodes at the beginning (integer)\n",
    "    N -- Number of nodes added to the network (integer)\n",
    "    m -- number of connections of each added node (integer, with condition: m < m0)\n",
    "    \n",
    "    Function returns Barabasi-Albert graph as a networkx object\n",
    "    \"\"\"\n",
    "    graph = nx.Graph()\n",
    "    for i in range(1, m0 + 1):\n",
    "        graph.add_node(i)\n",
    "    if m0==2:\n",
    "        graph.add_edge(1, 2)\n",
    "    else:\n",
    "        for j in range(1, m0 + 1):\n",
    "            random = rnd.randint(1, m0+1)\n",
    "            while random == j or graph.has_edge(j, random):\n",
    "                random = rnd.randint(1, m0+1)\n",
    "            graph.add_edge(j, random)\n",
    "    for k in range(m0 + 1, m0 + N + 1):\n",
    "        ki = [graph.degree(i) for i in range(1, k)]\n",
    "        den = sum(ki)\n",
    "        graph.add_node(k)\n",
    "        help_list = [0]\n",
    "        for l in range(0,len(ki)):\n",
    "            help_list.append((help_list[l] + ki[l]/den))\n",
    "        connected = np.zeros(m)\n",
    "        while (len(set(connected)) != len(connected)) or (0 in connected):\n",
    "            for z in range(m): \n",
    "                random = rnd.random()\n",
    "                for i in range(len(help_list)): \n",
    "                    if random < help_list[i]:\n",
    "                        link = i\n",
    "                        connected[z] = link\n",
    "                        break\n",
    "        for d in connected:\n",
    "            graph.add_edge(k, d)\n",
    "\n",
    "        \n",
    "    return graph"
   ]
  },
  {
   "cell_type": "code",
   "execution_count": 54,
   "metadata": {},
   "outputs": [],
   "source": [
    "m0 = 3\n",
    "N = 1997\n",
    "m = 2\n",
    "ba = barabasi_albert(m0, N, m)"
   ]
  },
  {
   "cell_type": "code",
   "execution_count": null,
   "metadata": {},
   "outputs": [],
   "source": [
    "#nx.draw(ba, with_labels = True)"
   ]
  },
  {
   "cell_type": "code",
   "execution_count": 31,
   "metadata": {},
   "outputs": [
    {
     "data": {
      "image/png": "[encoded data removed]",
      "text/plain": [
       "<Figure size 432x288 with 1 Axes>"
      ]
     },
     "metadata": {
      "needs_background": "light"
     },
     "output_type": "display_data"
    }
   ],
   "source": [
    "frequency_plot(ba)"
   ]
  },
  {
   "cell_type": "markdown",
   "metadata": {},
   "source": [
    "### Number of nodes and  edges"
   ]
  },
  {
   "cell_type": "code",
   "execution_count": 32,
   "metadata": {},
   "outputs": [
    {
     "data": {
      "text/plain": [
       "2000"
      ]
     },
     "execution_count": 32,
     "metadata": {},
     "output_type": "execute_result"
    }
   ],
   "source": [
    "ba.number_of_nodes()"
   ]
  },
  {
   "cell_type": "code",
   "execution_count": 33,
   "metadata": {},
   "outputs": [
    {
     "data": {
      "text/plain": [
       "3996"
      ]
     },
     "execution_count": 33,
     "metadata": {},
     "output_type": "execute_result"
    }
   ],
   "source": [
    "ba.number_of_edges()"
   ]
  },
  {
   "cell_type": "markdown",
   "metadata": {},
   "source": [
    "### Average degree and variance of distribution"
   ]
  },
  {
   "cell_type": "code",
   "execution_count": 55,
   "metadata": {},
   "outputs": [
    {
     "name": "stdout",
     "output_type": "stream",
     "text": [
      "Average degree:  3.996\n"
     ]
    }
   ],
   "source": [
    "degrees_ba = dict(ba.degree())\n",
    "kaver_ba = sum(degrees_ba.values())/len(ba)\n",
    "print(\"Average degree: \", kaver_ba)"
   ]
  },
  {
   "cell_type": "code",
   "execution_count": 56,
   "metadata": {},
   "outputs": [
    {
     "name": "stdout",
     "output_type": "stream",
     "text": [
      "Variance of the degrees for Barabasi-Albert graph:  27.51\n"
     ]
    }
   ],
   "source": [
    "dgr_ba = list(ba.degree())\n",
    "dgr_list_ba = []\n",
    "for i in dgr_ba:\n",
    "    dgr_list_ba.append(i[1])\n",
    "print(\"Variance of the degrees for Barabasi-Albert graph: \", np.round(np.var(dgr_list_ba), 2))"
   ]
  },
  {
   "cell_type": "markdown",
   "metadata": {},
   "source": [
    "### Fitting degree distribution"
   ]
  },
  {
   "cell_type": "code",
   "execution_count": 57,
   "metadata": {},
   "outputs": [
    {
     "name": "stdout",
     "output_type": "stream",
     "text": [
      "The power law fitted to the distribution: f(x) = 9.05*(16.0*x)**-2.7\n"
     ]
    },
    {
     "data": {
      "image/png": "[encoded data removed]",
      "text/plain": [
       "<Figure size 576x432 with 1 Axes>"
      ]
     },
     "metadata": {
      "needs_background": "light"
     },
     "output_type": "display_data"
    }
   ],
   "source": [
    "degrees = dict(ba.degree())\n",
    "list_of_degrees = degrees.values()\n",
    "log_degree=[]\n",
    "for i in list_of_degrees:\n",
    "    log_degree.append(np.log(i))\n",
    "unique_bins = set(list_of_degrees)\n",
    "kvals2 = np.arange(1, max(list_of_degrees) + 1)\n",
    "  \n",
    "n = max(list_of_degrees)\n",
    "s = list(list_of_degrees)  \n",
    "p, x = np.histogram(s, bins=n) \n",
    "x = x[:-1] + (x[1] - x[0])/2  \n",
    "f = UnivariateSpline(x, p, s=n)\n",
    "coef_k = (N+m0)*16/2000\n",
    "vec_x = np.array(np.log(x)).reshape((-1, 1))\n",
    "vec_y = np.array(np.log(abs(f(x))))\n",
    "model = LinearRegression().fit(vec_x, vec_y)\n",
    "b = model.intercept_\n",
    "a = model.coef_\n",
    "linr2 = np.zeros(max(list_of_degrees), dtype=float)        \n",
    "for r in kvals2:\n",
    "    linr2[r-1] = np.exp(a[0]*np.log(r*((N+m0)*16/2000))+b)\n",
    "print(\"The power law fitted to the distribution: f(x) = {}*({}*x)**{}\".format(round(b,2),round(coef_k,2),round(a[0],2)))\n",
    "fig = plt.figure(figsize=(8,6))\n",
    "plt.plot(kvals2, linr2, \"g\", label='Fitted distr')\n",
    "plt.plot(x, f(x)/N)\n",
    "plt.title(\"Distribution fitting with number of nodes equal to N+m0={}\".format(N+m0))\n",
    "plt.xscale(\"log\")\n",
    "plt.yscale(\"log\")\n",
    "#plt.xlim(2, 20)\n",
    "#plt.ylim(0,1)\n",
    "plt.xlabel('degree')\n",
    "plt.ylabel('degree distribution')\n",
    "plt.legend()\n",
    "plt.show()"
   ]
  },
  {
   "cell_type": "code",
   "execution_count": 58,
   "metadata": {
    "scrolled": false
   },
   "outputs": [
    {
     "data": {
      "application/vnd.plotly.v1+json": {
       "config": {
        "plotlyServerURL": "https://plot.ly"
       },
       "data": [
        {
         "mode": "lines",
         "name": "theoritical",
         "type": "scatter",
         "x": [
          1,
          2,
          3,
          4,
          5,
          6,
          7,
          8,
          9,
          10,
          11,
          12,
          13,
          14,
          15,
          16,
          17,
          18,
          19,
          20,
          21,
          22,
          23,
          24,
          25,
          26,
          27,
          28,
          29,
          30,
          31,
          32,
          33,
          34,
          35,
          36,
          37,
          38,
          39,
          40,
          41,
          42,
          43,
          44,
          45,
          46,
          47,
          48,
          49,
          50,
          51,
          52,
          53,
          54,
          55,
          56,
          57,
          58,
          59,
          60,
          61,
          62,
          63,
          64,
          65,
          66,
          67,
          68,
          69,
          70,
          71,
          72,
          73,
          74,
          75,
          76,
          77,
          78,
          79,
          80,
          81,
          82,
          83,
          84,
          85,
          86,
          87,
          88,
          89,
          90,
          91,
          92,
          93,
          94,
          95,
          96,
          97,
          98
         ],
         "y": [
          4.780439189959624,
          0.7361325530606772,
          0.24641497887565522,
          0.11335593114828588,
          0.062068876028550664,
          0.03794506745177549,
          0.02502988580665104,
          0.0174555072630184,
          0.012701833325653592,
          0.009557891725193035,
          0.007389905321102697,
          0.00584310316884734,
          0.004707788629605797,
          0.0038543140095508377,
          0.003199434229293089,
          0.0026879469889467275,
          0.0022822126645851196,
          0.0019559359763853712,
          0.0016903501460779063,
          0.0014718051957069856,
          0.0012902033761375117,
          0.001137960269911091,
          0.001009300399952054,
          0.0008997705613564879,
          0.0008058977885419191,
          0.0007249452038759252,
          0.0006547352379665892,
          0.0005935199464742395,
          0.0005398847229044135,
          0.0004926760061096256,
          0.00045094643911367736,
          0.00041391286466334624,
          0.00038092386310806654,
          0.0003514344537499801,
          0.0003249862235262367,
          0.0003011916032618647,
          0.000279721339276605,
          0.00026029444558405256,
          0.00024267009569996489,
          0.00022664104139203618,
          0.0002120282412500474,
          0.00019867645366944447,
          0.0001864506030749219,
          0.00017523276951847262,
          0.00016491968346363635,
          0.00015542063201689674,
          0.00014665570185407644,
          0.00013855429892117968,
          0.00013105389663983604,
          0.0001240989735485637,
          0.00011764010861484191,
          0.0001116332082790881,
          0.00010603884396093501,
          0.00010082168251725131,
          9.594999518069875e-05,
          9.139523297527995e-05,
          8.713165861686586e-05,
          8.313602655270652e-05,
          7.93873041458376e-05,
          7.586642812462586e-05,
          7.255609133935114e-05,
          6.944055563254143e-05,
          6.650548726651812e-05,
          6.3737811883318e-05,
          6.112558641752959e-05,
          5.8657885756694314e-05,
          5.632470225906304e-05,
          5.411685650469331e-05,
          5.202591788129768e-05,
          5.004413379765995e-05,
          4.8164366480339783e-05,
          4.638003644838073e-05,
          4.468507187959735e-05,
          4.307386318389258e-05,
          4.154122218656884e-05,
          4.008234539992558e-05,
          3.869278092641637e-05,
          3.73683985928084e-05,
          3.6105362963425626e-05,
          3.490010892276601e-05,
          3.374931955447531e-05,
          3.264990607561328e-05,
          3.159898961302672e-05,
          3.059388463300686e-05,
          2.9632083856738377e-05,
          2.8711244512746107e-05,
          2.7829175793972163e-05,
          2.6983827401560554e-05,
          2.6173279070155936e-05,
          2.5395730980749228e-05,
          2.4649494977024975e-05,
          2.3932986509942184e-05,
          2.324471724305889e-05,
          2.258328825801016e-05,
          2.194738380567875e-05,
          2.133576555405188e-05,
          2.074726728861376e-05,
          2.018079002545526e-05
         ]
        },
        {
         "mode": "lines",
         "name": "empirical",
         "type": "scatter",
         "x": [
          2.489795918367347,
          3.469387755102041,
          4.448979591836735,
          5.428571428571429,
          6.408163265306122,
          7.387755102040817,
          8.36734693877551,
          9.346938775510205,
          10.326530612244898,
          11.306122448979592,
          12.285714285714286,
          13.26530612244898,
          14.244897959183673,
          15.224489795918368,
          16.20408163265306,
          17.183673469387752,
          18.163265306122447,
          19.142857142857142,
          20.122448979591834,
          21.10204081632653,
          22.081632653061224,
          23.061224489795915,
          24.04081632653061,
          25.020408163265305,
          25.999999999999996,
          26.97959183673469,
          27.959183673469386,
          28.93877551020408,
          29.918367346938773,
          30.897959183673468,
          31.877551020408163,
          32.85714285714286,
          33.83673469387755,
          34.816326530612244,
          35.79591836734694,
          36.775510204081634,
          37.755102040816325,
          38.734693877551024,
          39.714285714285715,
          40.69387755102041,
          41.673469387755105,
          42.6530612244898,
          43.63265306122449,
          44.61224489795919,
          45.59183673469388,
          46.57142857142857,
          47.55102040816327,
          48.53061224489796,
          49.51020408163265,
          50.48979591836735,
          51.46938775510204,
          52.44897959183674,
          53.42857142857143,
          54.40816326530612,
          55.38775510204082,
          56.36734693877551,
          57.3469387755102,
          58.3265306122449,
          59.30612244897959,
          60.285714285714285,
          61.26530612244898,
          62.244897959183675,
          63.224489795918366,
          64.20408163265306,
          65.18367346938776,
          66.16326530612244,
          67.14285714285714,
          68.12244897959184,
          69.10204081632654,
          70.08163265306122,
          71.06122448979592,
          72.04081632653062,
          73.0204081632653,
          74,
          74.9795918367347,
          75.95918367346938,
          76.93877551020408,
          77.91836734693878,
          78.89795918367346,
          79.87755102040816,
          80.85714285714286,
          81.83673469387755,
          82.81632653061224,
          83.79591836734694,
          84.77551020408163,
          85.75510204081633,
          86.73469387755102,
          87.71428571428571,
          88.6938775510204,
          89.6734693877551,
          90.65306122448979,
          91.63265306122449,
          92.61224489795919,
          93.59183673469387,
          94.57142857142857,
          95.55102040816327,
          96.53061224489795,
          97.51020408163265
         ],
         "y": [
          0.49202552727660037,
          0.19314699932410315,
          0.10693067610826944,
          0.06209946183814024,
          0.03465828244548973,
          0.028066914731735677,
          0.018968072021131075,
          0.012807861419208581,
          0.008983346286914155,
          0.006310756823718674,
          0.004564407620138403,
          0.0035186132666896112,
          0.0029476883538885642,
          0.0026259474722515248,
          0.0023651017151430282,
          0.002126448187320689,
          0.0019086804963903883,
          0.0017104922499580095,
          0.0015305770556294357,
          0.0013676285210105481,
          0.001220340253707231,
          0.001087405861325367,
          0.0009675189514708379,
          0.000859373131749527,
          0.0007616620097673171,
          0.0006730791931300904,
          0.0005924771166745228,
          0.0005193435241604607,
          0.00045332498657854364,
          0.0003940680749194103,
          0.00034121936017370057,
          0.00029442541333205333,
          0.00025333280538510853,
          0.00021758810732350496,
          0.00018683789013788183,
          0.00016072872481887878,
          0.00013890718235713494,
          0.00012101983374328951,
          0.00010671324996798206,
          9.56340020218517e-05,
          8.742866089553765e-05,
          8.174379757967945e-05,
          7.822598306491622e-05,
          7.65217883418873e-05,
          7.627778440123205e-05,
          7.71405422335897e-05,
          7.875663282959963e-05,
          8.077262717990102e-05,
          8.283509627513328e-05,
          8.45906111059357e-05,
          8.575140024139981e-05,
          8.629232256442643e-05,
          8.625389453636863e-05,
          8.567663261857951e-05,
          8.460105327241213e-05,
          8.306767295921954e-05,
          8.111700814035488e-05,
          7.878957527717114e-05,
          7.612589083102152e-05,
          7.316647126325894e-05,
          6.995183303523658e-05,
          6.652249260830754e-05,
          6.291896644382481e-05,
          5.9181771003141534e-05,
          5.535142274761078e-05,
          5.146843813858563e-05,
          4.757333363741909e-05,
          4.370662570546427e-05,
          3.9908830804074284e-05,
          3.622046539460224e-05,
          3.268204593840112e-05,
          2.933408889682403e-05,
          2.6217110731224144e-05,
          2.3371627902954373e-05,
          2.083815687336792e-05,
          1.865721410381783e-05,
          1.6869316055657137e-05,
          1.551497919023897e-05,
          1.4634719968916405e-05,
          1.426905485304247e-05,
          1.4458500303970266e-05,
          1.5243572783052894e-05,
          1.666478875164343e-05,
          1.876266467109493e-05,
          2.1577717002760445e-05,
          2.5150462207993116e-05,
          2.9521416748145986e-05,
          3.473109708457208e-05,
          4.0820019678624614e-05,
          4.782870099165657e-05,
          5.5797657485020896e-05,
          6.476740562007099e-05,
          7.477846185815968e-05,
          8.587134266063998e-05,
          9.808656448886527e-05,
          0.00011146464380418844,
          0.00012604609706796238,
          0.00014187144074154058
         ]
        }
       ],
       "layout": {
        "template": {
         "data": {
          "bar": [
           {
            "error_x": {
             "color": "#2a3f5f"
            },
            "error_y": {
             "color": "#2a3f5f"
            },
            "marker": {
             "line": {
              "color": "#E5ECF6",
              "width": 0.5
             }
            },
            "type": "bar"
           }
          ],
          "barpolar": [
           {
            "marker": {
             "line": {
              "color": "#E5ECF6",
              "width": 0.5
             }
            },
            "type": "barpolar"
           }
          ],
          "carpet": [
           {
            "aaxis": {
             "endlinecolor": "#2a3f5f",
             "gridcolor": "white",
             "linecolor": "white",
             "minorgridcolor": "white",
             "startlinecolor": "#2a3f5f"
            },
            "baxis": {
             "endlinecolor": "#2a3f5f",
             "gridcolor": "white",
             "linecolor": "white",
             "minorgridcolor": "white",
             "startlinecolor": "#2a3f5f"
            },
            "type": "carpet"
           }
          ],
          "choropleth": [
           {
            "colorbar": {
             "outlinewidth": 0,
             "ticks": ""
            },
            "type": "choropleth"
           }
          ],
          "contour": [
           {
            "colorbar": {
             "outlinewidth": 0,
             "ticks": ""
            },
            "colorscale": [
             [
              0,
              "#0d0887"
             ],
             [
              0.1111111111111111,
              "#46039f"
             ],
             [
              0.2222222222222222,
              "#7201a8"
             ],
             [
              0.3333333333333333,
              "#9c179e"
             ],
             [
              0.4444444444444444,
              "#bd3786"
             ],
             [
              0.5555555555555556,
              "#d8576b"
             ],
             [
              0.6666666666666666,
              "#ed7953"
             ],
             [
              0.7777777777777778,
              "#fb9f3a"
             ],
             [
              0.8888888888888888,
              "#fdca26"
             ],
             [
              1,
              "#f0f921"
             ]
            ],
            "type": "contour"
           }
          ],
          "contourcarpet": [
           {
            "colorbar": {
             "outlinewidth": 0,
             "ticks": ""
            },
            "type": "contourcarpet"
           }
          ],
          "heatmap": [
           {
            "colorbar": {
             "outlinewidth": 0,
             "ticks": ""
            },
            "colorscale": [
             [
              0,
              "#0d0887"
             ],
             [
              0.1111111111111111,
              "#46039f"
             ],
             [
              0.2222222222222222,
              "#7201a8"
             ],
             [
              0.3333333333333333,
              "#9c179e"
             ],
             [
              0.4444444444444444,
              "#bd3786"
             ],
             [
              0.5555555555555556,
              "#d8576b"
             ],
             [
              0.6666666666666666,
              "#ed7953"
             ],
             [
              0.7777777777777778,
              "#fb9f3a"
             ],
             [
              0.8888888888888888,
              "#fdca26"
             ],
             [
              1,
              "#f0f921"
             ]
            ],
            "type": "heatmap"
           }
          ],
          "heatmapgl": [
           {
            "colorbar": {
             "outlinewidth": 0,
             "ticks": ""
            },
            "colorscale": [
             [
              0,
              "#0d0887"
             ],
             [
              0.1111111111111111,
              "#46039f"
             ],
             [
              0.2222222222222222,
              "#7201a8"
             ],
             [
              0.3333333333333333,
              "#9c179e"
             ],
             [
              0.4444444444444444,
              "#bd3786"
             ],
             [
              0.5555555555555556,
              "#d8576b"
             ],
             [
              0.6666666666666666,
              "#ed7953"
             ],
             [
              0.7777777777777778,
              "#fb9f3a"
             ],
             [
              0.8888888888888888,
              "#fdca26"
             ],
             [
              1,
              "#f0f921"
             ]
            ],
            "type": "heatmapgl"
           }
          ],
          "histogram": [
           {
            "marker": {
             "colorbar": {
              "outlinewidth": 0,
              "ticks": ""
             }
            },
            "type": "histogram"
           }
          ],
          "histogram2d": [
           {
            "colorbar": {
             "outlinewidth": 0,
             "ticks": ""
            },
            "colorscale": [
             [
              0,
              "#0d0887"
             ],
             [
              0.1111111111111111,
              "#46039f"
             ],
             [
              0.2222222222222222,
              "#7201a8"
             ],
             [
              0.3333333333333333,
              "#9c179e"
             ],
             [
              0.4444444444444444,
              "#bd3786"
             ],
             [
              0.5555555555555556,
              "#d8576b"
             ],
             [
              0.6666666666666666,
              "#ed7953"
             ],
             [
              0.7777777777777778,
              "#fb9f3a"
             ],
             [
              0.8888888888888888,
              "#fdca26"
             ],
             [
              1,
              "#f0f921"
             ]
            ],
            "type": "histogram2d"
           }
          ],
          "histogram2dcontour": [
           {
            "colorbar": {
             "outlinewidth": 0,
             "ticks": ""
            },
            "colorscale": [
             [
              0,
              "#0d0887"
             ],
             [
              0.1111111111111111,
              "#46039f"
             ],
             [
              0.2222222222222222,
              "#7201a8"
             ],
             [
              0.3333333333333333,
              "#9c179e"
             ],
             [
              0.4444444444444444,
              "#bd3786"
             ],
             [
              0.5555555555555556,
              "#d8576b"
             ],
             [
              0.6666666666666666,
              "#ed7953"
             ],
             [
              0.7777777777777778,
              "#fb9f3a"
             ],
             [
              0.8888888888888888,
              "#fdca26"
             ],
             [
              1,
              "#f0f921"
             ]
            ],
            "type": "histogram2dcontour"
           }
          ],
          "mesh3d": [
           {
            "colorbar": {
             "outlinewidth": 0,
             "ticks": ""
            },
            "type": "mesh3d"
           }
          ],
          "parcoords": [
           {
            "line": {
             "colorbar": {
              "outlinewidth": 0,
              "ticks": ""
             }
            },
            "type": "parcoords"
           }
          ],
          "pie": [
           {
            "automargin": true,
            "type": "pie"
           }
          ],
          "scatter": [
           {
            "marker": {
             "colorbar": {
              "outlinewidth": 0,
              "ticks": ""
             }
            },
            "type": "scatter"
           }
          ],
          "scatter3d": [
           {
            "line": {
             "colorbar": {
              "outlinewidth": 0,
              "ticks": ""
             }
            },
            "marker": {
             "colorbar": {
              "outlinewidth": 0,
              "ticks": ""
             }
            },
            "type": "scatter3d"
           }
          ],
          "scattercarpet": [
           {
            "marker": {
             "colorbar": {
              "outlinewidth": 0,
              "ticks": ""
             }
            },
            "type": "scattercarpet"
           }
          ],
          "scattergeo": [
           {
            "marker": {
             "colorbar": {
              "outlinewidth": 0,
              "ticks": ""
             }
            },
            "type": "scattergeo"
           }
          ],
          "scattergl": [
           {
            "marker": {
             "colorbar": {
              "outlinewidth": 0,
              "ticks": ""
             }
            },
            "type": "scattergl"
           }
          ],
          "scattermapbox": [
           {
            "marker": {
             "colorbar": {
              "outlinewidth": 0,
              "ticks": ""
             }
            },
            "type": "scattermapbox"
           }
          ],
          "scatterpolar": [
           {
            "marker": {
             "colorbar": {
              "outlinewidth": 0,
              "ticks": ""
             }
            },
            "type": "scatterpolar"
           }
          ],
          "scatterpolargl": [
           {
            "marker": {
             "colorbar": {
              "outlinewidth": 0,
              "ticks": ""
             }
            },
            "type": "scatterpolargl"
           }
          ],
          "scatterternary": [
           {
            "marker": {
             "colorbar": {
              "outlinewidth": 0,
              "ticks": ""
             }
            },
            "type": "scatterternary"
           }
          ],
          "surface": [
           {
            "colorbar": {
             "outlinewidth": 0,
             "ticks": ""
            },
            "colorscale": [
             [
              0,
              "#0d0887"
             ],
             [
              0.1111111111111111,
              "#46039f"
             ],
             [
              0.2222222222222222,
              "#7201a8"
             ],
             [
              0.3333333333333333,
              "#9c179e"
             ],
             [
              0.4444444444444444,
              "#bd3786"
             ],
             [
              0.5555555555555556,
              "#d8576b"
             ],
             [
              0.6666666666666666,
              "#ed7953"
             ],
             [
              0.7777777777777778,
              "#fb9f3a"
             ],
             [
              0.8888888888888888,
              "#fdca26"
             ],
             [
              1,
              "#f0f921"
             ]
            ],
            "type": "surface"
           }
          ],
          "table": [
           {
            "cells": {
             "fill": {
              "color": "#EBF0F8"
             },
             "line": {
              "color": "white"
             }
            },
            "header": {
             "fill": {
              "color": "#C8D4E3"
             },
             "line": {
              "color": "white"
             }
            },
            "type": "table"
           }
          ]
         },
         "layout": {
          "annotationdefaults": {
           "arrowcolor": "#2a3f5f",
           "arrowhead": 0,
           "arrowwidth": 1
          },
          "autotypenumbers": "strict",
          "coloraxis": {
           "colorbar": {
            "outlinewidth": 0,
            "ticks": ""
           }
          },
          "colorscale": {
           "diverging": [
            [
             0,
             "#8e0152"
            ],
            [
             0.1,
             "#c51b7d"
            ],
            [
             0.2,
             "#de77ae"
            ],
            [
             0.3,
             "#f1b6da"
            ],
            [
             0.4,
             "#fde0ef"
            ],
            [
             0.5,
             "#f7f7f7"
            ],
            [
             0.6,
             "#e6f5d0"
            ],
            [
             0.7,
             "#b8e186"
            ],
            [
             0.8,
             "#7fbc41"
            ],
            [
             0.9,
             "#4d9221"
            ],
            [
             1,
             "#276419"
            ]
           ],
           "sequential": [
            [
             0,
             "#0d0887"
            ],
            [
             0.1111111111111111,
             "#46039f"
            ],
            [
             0.2222222222222222,
             "#7201a8"
            ],
            [
             0.3333333333333333,
             "#9c179e"
            ],
            [
             0.4444444444444444,
             "#bd3786"
            ],
            [
             0.5555555555555556,
             "#d8576b"
            ],
            [
             0.6666666666666666,
             "#ed7953"
            ],
            [
             0.7777777777777778,
             "#fb9f3a"
            ],
            [
             0.8888888888888888,
             "#fdca26"
            ],
            [
             1,
             "#f0f921"
            ]
           ],
           "sequentialminus": [
            [
             0,
             "#0d0887"
            ],
            [
             0.1111111111111111,
             "#46039f"
            ],
            [
             0.2222222222222222,
             "#7201a8"
            ],
            [
             0.3333333333333333,
             "#9c179e"
            ],
            [
             0.4444444444444444,
             "#bd3786"
            ],
            [
             0.5555555555555556,
             "#d8576b"
            ],
            [
             0.6666666666666666,
             "#ed7953"
            ],
            [
             0.7777777777777778,
             "#fb9f3a"
            ],
            [
             0.8888888888888888,
             "#fdca26"
            ],
            [
             1,
             "#f0f921"
            ]
           ]
          },
          "colorway": [
           "#636efa",
           "#EF553B",
           "#00cc96",
           "#ab63fa",
           "#FFA15A",
           "#19d3f3",
           "#FF6692",
           "#B6E880",
           "#FF97FF",
           "#FECB52"
          ],
          "font": {
           "color": "#2a3f5f"
          },
          "geo": {
           "bgcolor": "white",
           "lakecolor": "white",
           "landcolor": "#E5ECF6",
           "showlakes": true,
           "showland": true,
           "subunitcolor": "white"
          },
          "hoverlabel": {
           "align": "left"
          },
          "hovermode": "closest",
          "mapbox": {
           "style": "light"
          },
          "paper_bgcolor": "white",
          "plot_bgcolor": "#E5ECF6",
          "polar": {
           "angularaxis": {
            "gridcolor": "white",
            "linecolor": "white",
            "ticks": ""
           },
           "bgcolor": "#E5ECF6",
           "radialaxis": {
            "gridcolor": "white",
            "linecolor": "white",
            "ticks": ""
           }
          },
          "scene": {
           "xaxis": {
            "backgroundcolor": "#E5ECF6",
            "gridcolor": "white",
            "gridwidth": 2,
            "linecolor": "white",
            "showbackground": true,
            "ticks": "",
            "zerolinecolor": "white"
           },
           "yaxis": {
            "backgroundcolor": "#E5ECF6",
            "gridcolor": "white",
            "gridwidth": 2,
            "linecolor": "white",
            "showbackground": true,
            "ticks": "",
            "zerolinecolor": "white"
           },
           "zaxis": {
            "backgroundcolor": "#E5ECF6",
            "gridcolor": "white",
            "gridwidth": 2,
            "linecolor": "white",
            "showbackground": true,
            "ticks": "",
            "zerolinecolor": "white"
           }
          },
          "shapedefaults": {
           "line": {
            "color": "#2a3f5f"
           }
          },
          "ternary": {
           "aaxis": {
            "gridcolor": "white",
            "linecolor": "white",
            "ticks": ""
           },
           "baxis": {
            "gridcolor": "white",
            "linecolor": "white",
            "ticks": ""
           },
           "bgcolor": "#E5ECF6",
           "caxis": {
            "gridcolor": "white",
            "linecolor": "white",
            "ticks": ""
           }
          },
          "title": {
           "x": 0.05
          },
          "xaxis": {
           "automargin": true,
           "gridcolor": "white",
           "linecolor": "white",
           "ticks": "",
           "title": {
            "standoff": 15
           },
           "zerolinecolor": "white",
           "zerolinewidth": 2
          },
          "yaxis": {
           "automargin": true,
           "gridcolor": "white",
           "linecolor": "white",
           "ticks": "",
           "title": {
            "standoff": 15
           },
           "zerolinecolor": "white",
           "zerolinewidth": 2
          }
         }
        },
        "title": {
         "text": "Distribution fitting with number of nodes equal to N+m0=2000"
        },
        "xaxis": {
         "title": {
          "text": "degree"
         }
        },
        "yaxis": {
         "title": {
          "text": "degree distribution"
         }
        }
       }
      },
      "text/html": [
       "<div>                            <div id=\"7d15009b-49b2-4317-847b-73bb26c70037\" class=\"plotly-graph-div\" style=\"height:525px; width:100%;\"></div>            <script type=\"text/javascript\">                require([\"plotly\"], function(Plotly) {                    window.PLOTLYENV=window.PLOTLYENV || {};                                    if (document.getElementById(\"7d15009b-49b2-4317-847b-73bb26c70037\")) {                    Plotly.newPlot(                        \"7d15009b-49b2-4317-847b-73bb26c70037\",                        [{\"mode\": \"lines\", \"name\": \"theoritical\", \"type\": \"scatter\", \"x\": [1, 2, 3, 4, 5, 6, 7, 8, 9, 10, 11, 12, 13, 14, 15, 16, 17, 18, 19, 20, 21, 22, 23, 24, 25, 26, 27, 28, 29, 30, 31, 32, 33, 34, 35, 36, 37, 38, 39, 40, 41, 42, 43, 44, 45, 46, 47, 48, 49, 50, 51, 52, 53, 54, 55, 56, 57, 58, 59, 60, 61, 62, 63, 64, 65, 66, 67, 68, 69, 70, 71, 72, 73, 74, 75, 76, 77, 78, 79, 80, 81, 82, 83, 84, 85, 86, 87, 88, 89, 90, 91, 92, 93, 94, 95, 96, 97, 98], \"y\": [4.780439189959624, 0.7361325530606772, 0.24641497887565522, 0.11335593114828588, 0.062068876028550664, 0.03794506745177549, 0.02502988580665104, 0.0174555072630184, 0.012701833325653592, 0.009557891725193035, 0.007389905321102697, 0.00584310316884734, 0.004707788629605797, 0.0038543140095508377, 0.003199434229293089, 0.0026879469889467275, 0.0022822126645851196, 0.0019559359763853712, 0.0016903501460779063, 0.0014718051957069856, 0.0012902033761375117, 0.001137960269911091, 0.001009300399952054, 0.0008997705613564879, 0.0008058977885419191, 0.0007249452038759252, 0.0006547352379665892, 0.0005935199464742395, 0.0005398847229044135, 0.0004926760061096256, 0.00045094643911367736, 0.00041391286466334624, 0.00038092386310806654, 0.0003514344537499801, 0.0003249862235262367, 0.0003011916032618647, 0.000279721339276605, 0.00026029444558405256, 0.00024267009569996489, 0.00022664104139203618, 0.0002120282412500474, 0.00019867645366944447, 0.0001864506030749219, 0.00017523276951847262, 0.00016491968346363635, 0.00015542063201689674, 0.00014665570185407644, 0.00013855429892117968, 0.00013105389663983604, 0.0001240989735485637, 0.00011764010861484191, 0.0001116332082790881, 0.00010603884396093501, 0.00010082168251725131, 9.594999518069875e-05, 9.139523297527995e-05, 8.713165861686586e-05, 8.313602655270652e-05, 7.93873041458376e-05, 7.586642812462586e-05, 7.255609133935114e-05, 6.944055563254143e-05, 6.650548726651812e-05, 6.3737811883318e-05, 6.112558641752959e-05, 5.8657885756694314e-05, 5.632470225906304e-05, 5.411685650469331e-05, 5.202591788129768e-05, 5.004413379765995e-05, 4.8164366480339783e-05, 4.638003644838073e-05, 4.468507187959735e-05, 4.307386318389258e-05, 4.154122218656884e-05, 4.008234539992558e-05, 3.869278092641637e-05, 3.73683985928084e-05, 3.6105362963425626e-05, 3.490010892276601e-05, 3.374931955447531e-05, 3.264990607561328e-05, 3.159898961302672e-05, 3.059388463300686e-05, 2.9632083856738377e-05, 2.8711244512746107e-05, 2.7829175793972163e-05, 2.6983827401560554e-05, 2.6173279070155936e-05, 2.5395730980749228e-05, 2.4649494977024975e-05, 2.3932986509942184e-05, 2.324471724305889e-05, 2.258328825801016e-05, 2.194738380567875e-05, 2.133576555405188e-05, 2.074726728861376e-05, 2.018079002545526e-05]}, {\"mode\": \"lines\", \"name\": \"empirical\", \"type\": \"scatter\", \"x\": [2.489795918367347, 3.469387755102041, 4.448979591836735, 5.428571428571429, 6.408163265306122, 7.387755102040817, 8.36734693877551, 9.346938775510205, 10.326530612244898, 11.306122448979592, 12.285714285714286, 13.26530612244898, 14.244897959183673, 15.224489795918368, 16.20408163265306, 17.183673469387752, 18.163265306122447, 19.142857142857142, 20.122448979591834, 21.10204081632653, 22.081632653061224, 23.061224489795915, 24.04081632653061, 25.020408163265305, 25.999999999999996, 26.97959183673469, 27.959183673469386, 28.93877551020408, 29.918367346938773, 30.897959183673468, 31.877551020408163, 32.85714285714286, 33.83673469387755, 34.816326530612244, 35.79591836734694, 36.775510204081634, 37.755102040816325, 38.734693877551024, 39.714285714285715, 40.69387755102041, 41.673469387755105, 42.6530612244898, 43.63265306122449, 44.61224489795919, 45.59183673469388, 46.57142857142857, 47.55102040816327, 48.53061224489796, 49.51020408163265, 50.48979591836735, 51.46938775510204, 52.44897959183674, 53.42857142857143, 54.40816326530612, 55.38775510204082, 56.36734693877551, 57.3469387755102, 58.3265306122449, 59.30612244897959, 60.285714285714285, 61.26530612244898, 62.244897959183675, 63.224489795918366, 64.20408163265306, 65.18367346938776, 66.16326530612244, 67.14285714285714, 68.12244897959184, 69.10204081632654, 70.08163265306122, 71.06122448979592, 72.04081632653062, 73.0204081632653, 74.0, 74.9795918367347, 75.95918367346938, 76.93877551020408, 77.91836734693878, 78.89795918367346, 79.87755102040816, 80.85714285714286, 81.83673469387755, 82.81632653061224, 83.79591836734694, 84.77551020408163, 85.75510204081633, 86.73469387755102, 87.71428571428571, 88.6938775510204, 89.6734693877551, 90.65306122448979, 91.63265306122449, 92.61224489795919, 93.59183673469387, 94.57142857142857, 95.55102040816327, 96.53061224489795, 97.51020408163265], \"y\": [0.49202552727660037, 0.19314699932410315, 0.10693067610826944, 0.06209946183814024, 0.03465828244548973, 0.028066914731735677, 0.018968072021131075, 0.012807861419208581, 0.008983346286914155, 0.006310756823718674, 0.004564407620138403, 0.0035186132666896112, 0.0029476883538885642, 0.0026259474722515248, 0.0023651017151430282, 0.002126448187320689, 0.0019086804963903883, 0.0017104922499580095, 0.0015305770556294357, 0.0013676285210105481, 0.001220340253707231, 0.001087405861325367, 0.0009675189514708379, 0.000859373131749527, 0.0007616620097673171, 0.0006730791931300904, 0.0005924771166745228, 0.0005193435241604607, 0.00045332498657854364, 0.0003940680749194103, 0.00034121936017370057, 0.00029442541333205333, 0.00025333280538510853, 0.00021758810732350496, 0.00018683789013788183, 0.00016072872481887878, 0.00013890718235713494, 0.00012101983374328951, 0.00010671324996798206, 9.56340020218517e-05, 8.742866089553765e-05, 8.174379757967945e-05, 7.822598306491622e-05, 7.65217883418873e-05, 7.627778440123205e-05, 7.71405422335897e-05, 7.875663282959963e-05, 8.077262717990102e-05, 8.283509627513328e-05, 8.45906111059357e-05, 8.575140024139981e-05, 8.629232256442643e-05, 8.625389453636863e-05, 8.567663261857951e-05, 8.460105327241213e-05, 8.306767295921954e-05, 8.111700814035488e-05, 7.878957527717114e-05, 7.612589083102152e-05, 7.316647126325894e-05, 6.995183303523658e-05, 6.652249260830754e-05, 6.291896644382481e-05, 5.9181771003141534e-05, 5.535142274761078e-05, 5.146843813858563e-05, 4.757333363741909e-05, 4.370662570546427e-05, 3.9908830804074284e-05, 3.622046539460224e-05, 3.268204593840112e-05, 2.933408889682403e-05, 2.6217110731224144e-05, 2.3371627902954373e-05, 2.083815687336792e-05, 1.865721410381783e-05, 1.6869316055657137e-05, 1.551497919023897e-05, 1.4634719968916405e-05, 1.426905485304247e-05, 1.4458500303970266e-05, 1.5243572783052894e-05, 1.666478875164343e-05, 1.876266467109493e-05, 2.1577717002760445e-05, 2.5150462207993116e-05, 2.9521416748145986e-05, 3.473109708457208e-05, 4.0820019678624614e-05, 4.782870099165657e-05, 5.5797657485020896e-05, 6.476740562007099e-05, 7.477846185815968e-05, 8.587134266063998e-05, 9.808656448886527e-05, 0.00011146464380418844, 0.00012604609706796238, 0.00014187144074154058]}],                        {\"template\": {\"data\": {\"bar\": [{\"error_x\": {\"color\": \"#2a3f5f\"}, \"error_y\": {\"color\": \"#2a3f5f\"}, \"marker\": {\"line\": {\"color\": \"#E5ECF6\", \"width\": 0.5}}, \"type\": \"bar\"}], \"barpolar\": [{\"marker\": {\"line\": {\"color\": \"#E5ECF6\", \"width\": 0.5}}, \"type\": \"barpolar\"}], \"carpet\": [{\"aaxis\": {\"endlinecolor\": \"#2a3f5f\", \"gridcolor\": \"white\", \"linecolor\": \"white\", \"minorgridcolor\": \"white\", \"startlinecolor\": \"#2a3f5f\"}, \"baxis\": {\"endlinecolor\": \"#2a3f5f\", \"gridcolor\": \"white\", \"linecolor\": \"white\", \"minorgridcolor\": \"white\", \"startlinecolor\": \"#2a3f5f\"}, \"type\": \"carpet\"}], \"choropleth\": [{\"colorbar\": {\"outlinewidth\": 0, \"ticks\": \"\"}, \"type\": \"choropleth\"}], \"contour\": [{\"colorbar\": {\"outlinewidth\": 0, \"ticks\": \"\"}, \"colorscale\": [[0.0, \"#0d0887\"], [0.1111111111111111, \"#46039f\"], [0.2222222222222222, \"#7201a8\"], [0.3333333333333333, \"#9c179e\"], [0.4444444444444444, \"#bd3786\"], [0.5555555555555556, \"#d8576b\"], [0.6666666666666666, \"#ed7953\"], [0.7777777777777778, \"#fb9f3a\"], [0.8888888888888888, \"#fdca26\"], [1.0, \"#f0f921\"]], \"type\": \"contour\"}], \"contourcarpet\": [{\"colorbar\": {\"outlinewidth\": 0, \"ticks\": \"\"}, \"type\": \"contourcarpet\"}], \"heatmap\": [{\"colorbar\": {\"outlinewidth\": 0, \"ticks\": \"\"}, \"colorscale\": [[0.0, \"#0d0887\"], [0.1111111111111111, \"#46039f\"], [0.2222222222222222, \"#7201a8\"], [0.3333333333333333, \"#9c179e\"], [0.4444444444444444, \"#bd3786\"], [0.5555555555555556, \"#d8576b\"], [0.6666666666666666, \"#ed7953\"], [0.7777777777777778, \"#fb9f3a\"], [0.8888888888888888, \"#fdca26\"], [1.0, \"#f0f921\"]], \"type\": \"heatmap\"}], \"heatmapgl\": [{\"colorbar\": {\"outlinewidth\": 0, \"ticks\": \"\"}, \"colorscale\": [[0.0, \"#0d0887\"], [0.1111111111111111, \"#46039f\"], [0.2222222222222222, \"#7201a8\"], [0.3333333333333333, \"#9c179e\"], [0.4444444444444444, \"#bd3786\"], [0.5555555555555556, \"#d8576b\"], [0.6666666666666666, \"#ed7953\"], [0.7777777777777778, \"#fb9f3a\"], [0.8888888888888888, \"#fdca26\"], [1.0, \"#f0f921\"]], \"type\": \"heatmapgl\"}], \"histogram\": [{\"marker\": {\"colorbar\": {\"outlinewidth\": 0, \"ticks\": \"\"}}, \"type\": \"histogram\"}], \"histogram2d\": [{\"colorbar\": {\"outlinewidth\": 0, \"ticks\": \"\"}, \"colorscale\": [[0.0, \"#0d0887\"], [0.1111111111111111, \"#46039f\"], [0.2222222222222222, \"#7201a8\"], [0.3333333333333333, \"#9c179e\"], [0.4444444444444444, \"#bd3786\"], [0.5555555555555556, \"#d8576b\"], [0.6666666666666666, \"#ed7953\"], [0.7777777777777778, \"#fb9f3a\"], [0.8888888888888888, \"#fdca26\"], [1.0, \"#f0f921\"]], \"type\": \"histogram2d\"}], \"histogram2dcontour\": [{\"colorbar\": {\"outlinewidth\": 0, \"ticks\": \"\"}, \"colorscale\": [[0.0, \"#0d0887\"], [0.1111111111111111, \"#46039f\"], [0.2222222222222222, \"#7201a8\"], [0.3333333333333333, \"#9c179e\"], [0.4444444444444444, \"#bd3786\"], [0.5555555555555556, \"#d8576b\"], [0.6666666666666666, \"#ed7953\"], [0.7777777777777778, \"#fb9f3a\"], [0.8888888888888888, \"#fdca26\"], [1.0, \"#f0f921\"]], \"type\": \"histogram2dcontour\"}], \"mesh3d\": [{\"colorbar\": {\"outlinewidth\": 0, \"ticks\": \"\"}, \"type\": \"mesh3d\"}], \"parcoords\": [{\"line\": {\"colorbar\": {\"outlinewidth\": 0, \"ticks\": \"\"}}, \"type\": \"parcoords\"}], \"pie\": [{\"automargin\": true, \"type\": \"pie\"}], \"scatter\": [{\"marker\": {\"colorbar\": {\"outlinewidth\": 0, \"ticks\": \"\"}}, \"type\": \"scatter\"}], \"scatter3d\": [{\"line\": {\"colorbar\": {\"outlinewidth\": 0, \"ticks\": \"\"}}, \"marker\": {\"colorbar\": {\"outlinewidth\": 0, \"ticks\": \"\"}}, \"type\": \"scatter3d\"}], \"scattercarpet\": [{\"marker\": {\"colorbar\": {\"outlinewidth\": 0, \"ticks\": \"\"}}, \"type\": \"scattercarpet\"}], \"scattergeo\": [{\"marker\": {\"colorbar\": {\"outlinewidth\": 0, \"ticks\": \"\"}}, \"type\": \"scattergeo\"}], \"scattergl\": [{\"marker\": {\"colorbar\": {\"outlinewidth\": 0, \"ticks\": \"\"}}, \"type\": \"scattergl\"}], \"scattermapbox\": [{\"marker\": {\"colorbar\": {\"outlinewidth\": 0, \"ticks\": \"\"}}, \"type\": \"scattermapbox\"}], \"scatterpolar\": [{\"marker\": {\"colorbar\": {\"outlinewidth\": 0, \"ticks\": \"\"}}, \"type\": \"scatterpolar\"}], \"scatterpolargl\": [{\"marker\": {\"colorbar\": {\"outlinewidth\": 0, \"ticks\": \"\"}}, \"type\": \"scatterpolargl\"}], \"scatterternary\": [{\"marker\": {\"colorbar\": {\"outlinewidth\": 0, \"ticks\": \"\"}}, \"type\": \"scatterternary\"}], \"surface\": [{\"colorbar\": {\"outlinewidth\": 0, \"ticks\": \"\"}, \"colorscale\": [[0.0, \"#0d0887\"], [0.1111111111111111, \"#46039f\"], [0.2222222222222222, \"#7201a8\"], [0.3333333333333333, \"#9c179e\"], [0.4444444444444444, \"#bd3786\"], [0.5555555555555556, \"#d8576b\"], [0.6666666666666666, \"#ed7953\"], [0.7777777777777778, \"#fb9f3a\"], [0.8888888888888888, \"#fdca26\"], [1.0, \"#f0f921\"]], \"type\": \"surface\"}], \"table\": [{\"cells\": {\"fill\": {\"color\": \"#EBF0F8\"}, \"line\": {\"color\": \"white\"}}, \"header\": {\"fill\": {\"color\": \"#C8D4E3\"}, \"line\": {\"color\": \"white\"}}, \"type\": \"table\"}]}, \"layout\": {\"annotationdefaults\": {\"arrowcolor\": \"#2a3f5f\", \"arrowhead\": 0, \"arrowwidth\": 1}, \"autotypenumbers\": \"strict\", \"coloraxis\": {\"colorbar\": {\"outlinewidth\": 0, \"ticks\": \"\"}}, \"colorscale\": {\"diverging\": [[0, \"#8e0152\"], [0.1, \"#c51b7d\"], [0.2, \"#de77ae\"], [0.3, \"#f1b6da\"], [0.4, \"#fde0ef\"], [0.5, \"#f7f7f7\"], [0.6, \"#e6f5d0\"], [0.7, \"#b8e186\"], [0.8, \"#7fbc41\"], [0.9, \"#4d9221\"], [1, \"#276419\"]], \"sequential\": [[0.0, \"#0d0887\"], [0.1111111111111111, \"#46039f\"], [0.2222222222222222, \"#7201a8\"], [0.3333333333333333, \"#9c179e\"], [0.4444444444444444, \"#bd3786\"], [0.5555555555555556, \"#d8576b\"], [0.6666666666666666, \"#ed7953\"], [0.7777777777777778, \"#fb9f3a\"], [0.8888888888888888, \"#fdca26\"], [1.0, \"#f0f921\"]], \"sequentialminus\": [[0.0, \"#0d0887\"], [0.1111111111111111, \"#46039f\"], [0.2222222222222222, \"#7201a8\"], [0.3333333333333333, \"#9c179e\"], [0.4444444444444444, \"#bd3786\"], [0.5555555555555556, \"#d8576b\"], [0.6666666666666666, \"#ed7953\"], [0.7777777777777778, \"#fb9f3a\"], [0.8888888888888888, \"#fdca26\"], [1.0, \"#f0f921\"]]}, \"colorway\": [\"#636efa\", \"#EF553B\", \"#00cc96\", \"#ab63fa\", \"#FFA15A\", \"#19d3f3\", \"#FF6692\", \"#B6E880\", \"#FF97FF\", \"#FECB52\"], \"font\": {\"color\": \"#2a3f5f\"}, \"geo\": {\"bgcolor\": \"white\", \"lakecolor\": \"white\", \"landcolor\": \"#E5ECF6\", \"showlakes\": true, \"showland\": true, \"subunitcolor\": \"white\"}, \"hoverlabel\": {\"align\": \"left\"}, \"hovermode\": \"closest\", \"mapbox\": {\"style\": \"light\"}, \"paper_bgcolor\": \"white\", \"plot_bgcolor\": \"#E5ECF6\", \"polar\": {\"angularaxis\": {\"gridcolor\": \"white\", \"linecolor\": \"white\", \"ticks\": \"\"}, \"bgcolor\": \"#E5ECF6\", \"radialaxis\": {\"gridcolor\": \"white\", \"linecolor\": \"white\", \"ticks\": \"\"}}, \"scene\": {\"xaxis\": {\"backgroundcolor\": \"#E5ECF6\", \"gridcolor\": \"white\", \"gridwidth\": 2, \"linecolor\": \"white\", \"showbackground\": true, \"ticks\": \"\", \"zerolinecolor\": \"white\"}, \"yaxis\": {\"backgroundcolor\": \"#E5ECF6\", \"gridcolor\": \"white\", \"gridwidth\": 2, \"linecolor\": \"white\", \"showbackground\": true, \"ticks\": \"\", \"zerolinecolor\": \"white\"}, \"zaxis\": {\"backgroundcolor\": \"#E5ECF6\", \"gridcolor\": \"white\", \"gridwidth\": 2, \"linecolor\": \"white\", \"showbackground\": true, \"ticks\": \"\", \"zerolinecolor\": \"white\"}}, \"shapedefaults\": {\"line\": {\"color\": \"#2a3f5f\"}}, \"ternary\": {\"aaxis\": {\"gridcolor\": \"white\", \"linecolor\": \"white\", \"ticks\": \"\"}, \"baxis\": {\"gridcolor\": \"white\", \"linecolor\": \"white\", \"ticks\": \"\"}, \"bgcolor\": \"#E5ECF6\", \"caxis\": {\"gridcolor\": \"white\", \"linecolor\": \"white\", \"ticks\": \"\"}}, \"title\": {\"x\": 0.05}, \"xaxis\": {\"automargin\": true, \"gridcolor\": \"white\", \"linecolor\": \"white\", \"ticks\": \"\", \"title\": {\"standoff\": 15}, \"zerolinecolor\": \"white\", \"zerolinewidth\": 2}, \"yaxis\": {\"automargin\": true, \"gridcolor\": \"white\", \"linecolor\": \"white\", \"ticks\": \"\", \"title\": {\"standoff\": 15}, \"zerolinecolor\": \"white\", \"zerolinewidth\": 2}}}, \"title\": {\"text\": \"Distribution fitting with number of nodes equal to N+m0=2000\"}, \"xaxis\": {\"title\": {\"text\": \"degree\"}}, \"yaxis\": {\"title\": {\"text\": \"degree distribution\"}}},                        {\"responsive\": true}                    ).then(function(){\n",
       "                            \n",
       "var gd = document.getElementById('7d15009b-49b2-4317-847b-73bb26c70037');\n",
       "var x = new MutationObserver(function (mutations, observer) {{\n",
       "        var display = window.getComputedStyle(gd).display;\n",
       "        if (!display || display === 'none') {{\n",
       "            console.log([gd, 'removed!']);\n",
       "            Plotly.purge(gd);\n",
       "            observer.disconnect();\n",
       "        }}\n",
       "}});\n",
       "\n",
       "// Listen for the removal of the full notebook cells\n",
       "var notebookContainer = gd.closest('#notebook-container');\n",
       "if (notebookContainer) {{\n",
       "    x.observe(notebookContainer, {childList: true});\n",
       "}}\n",
       "\n",
       "// Listen for the clearing of the current output cell\n",
       "var outputEl = gd.closest('.output');\n",
       "if (outputEl) {{\n",
       "    x.observe(outputEl, {childList: true});\n",
       "}}\n",
       "\n",
       "                        })                };                });            </script>        </div>"
      ]
     },
     "metadata": {},
     "output_type": "display_data"
    }
   ],
   "source": [
    "fig = go.Figure()\n",
    "fig.add_trace(go.Scatter(x=kvals2, y=linr2,\n",
    "                    mode='lines',\n",
    "                    name='theoritical'))\n",
    "\n",
    "fig.add_trace(go.Scatter(x=x, y=f(x)/N,\n",
    "                    mode='lines',\n",
    "                    name='empirical'))  \n",
    "fig.update_layout(title = \"Distribution fitting with number of nodes equal to N+m0={}\".format(N+m0),xaxis_title ='degree', yaxis_title = 'degree distribution')\n",
    "fig.show()"
   ]
  },
  {
   "cell_type": "markdown",
   "metadata": {},
   "source": [
    "## Exercise 2"
   ]
  },
  {
   "cell_type": "code",
   "execution_count": 38,
   "metadata": {},
   "outputs": [],
   "source": [
    "def scrap(node):\n",
    "    \"\"\"\n",
    "    Function scraps, creates and returns a list of friends of a given user name, taken from the site  'www.livejournal.com'.\n",
    "    \n",
    "    Key arguments:\n",
    "    node -- name of the user (string)\n",
    "    \n",
    "    Function returns the list of friends of the user\n",
    "    \"\"\"\n",
    "    url = \"https://www.livejournal.com/misc/fdata.bml?user=\"\n",
    "    file = urllib.request.urlopen(url + node)\n",
    "    friends = []\n",
    "    for line in file:\n",
    "        decoded_line = line.decode(\"utf-8\")\n",
    "        friends.append(decoded_line[2:-1])\n",
    "    friends.pop(0)\n",
    "    friends.pop(-1)\n",
    "    return friends"
   ]
  },
  {
   "cell_type": "code",
   "execution_count": 39,
   "metadata": {},
   "outputs": [],
   "source": [
    "def network(node, level = 1, write = False):\n",
    "    \"\"\"\n",
    "    Function creates graph object with the nodes that are friends of a given user, and connections with them which are\n",
    "    provided by the scrap function. The level argument defines the depth of search.\n",
    "    \n",
    "    Key arguments:\n",
    "    node -- name of the user (string)\n",
    "    level -- defines the depth of the search (integer, available values: 1, 2)\n",
    "    write -- default value: False (not writing to dot file), if set to True - saves the graph to the dot file (Boolean)\n",
    "    \n",
    "    Function returns graph of a friends as a networkx object of a given user at the specified depth of search\n",
    "    \"\"\"\n",
    "    VG = nx.Graph()\n",
    "    initial_node = node\n",
    "    VG.add_node(initial_node)\n",
    "    friends = scrap(node)\n",
    "    unique_friends = list(set(friends))\n",
    "    for i in unique_friends:\n",
    "        VG.add_node(i)\n",
    "        VG.add_edge(initial_node, i)\n",
    "        if level == 2:\n",
    "            friends2 = scrap(i)\n",
    "            unique_friends2 = list(set(friends2))\n",
    "            if len(unique_friends2) == 1:\n",
    "                VG.add_edge(i, j)\n",
    "            else:\n",
    "                for j in unique_friends2:\n",
    "                    VG.add_edge(i, j)\n",
    "    if write == True:\n",
    "        write_dot(VG, \"VG.txt\")\n",
    "    return VG"
   ]
  },
  {
   "cell_type": "code",
   "execution_count": 43,
   "metadata": {},
   "outputs": [],
   "source": [
    "VG = network(\"valerois\", 2)"
   ]
  },
  {
   "cell_type": "code",
   "execution_count": 40,
   "metadata": {},
   "outputs": [],
   "source": [
    "VG2 = network(\"valerois\")"
   ]
  },
  {
   "cell_type": "markdown",
   "metadata": {},
   "source": [
    "### Number of nodes and edges in analysed network"
   ]
  },
  {
   "cell_type": "code",
   "execution_count": 44,
   "metadata": {},
   "outputs": [
    {
     "data": {
      "text/plain": [
       "131196"
      ]
     },
     "execution_count": 44,
     "metadata": {},
     "output_type": "execute_result"
    }
   ],
   "source": [
    "VG.number_of_nodes()"
   ]
  },
  {
   "cell_type": "code",
   "execution_count": 45,
   "metadata": {},
   "outputs": [
    {
     "data": {
      "text/plain": [
       "310178"
      ]
     },
     "execution_count": 45,
     "metadata": {},
     "output_type": "execute_result"
    }
   ],
   "source": [
    "VG.number_of_edges()"
   ]
  },
  {
   "cell_type": "markdown",
   "metadata": {},
   "source": [
    "### Celebrities in our network"
   ]
  },
  {
   "cell_type": "code",
   "execution_count": 94,
   "metadata": {},
   "outputs": [
    {
     "name": "stdout",
     "output_type": "stream",
     "text": [
      "alexpashkov : 0.0362\n",
      "borisakunin : 0.0348\n",
      "trirub : 0.0345\n",
      "lara_x : 0.0336\n",
      "no_globalism : 0.0335\n",
      "gogol : 0.033\n",
      "morena_morana : 0.0326\n",
      "goodspider : 0.0322\n",
      "timgud : 0.0314\n",
      "serg_was : 0.0306\n"
     ]
    }
   ],
   "source": [
    "celebs = nx.degree_centrality(VG)\n",
    "names = []\n",
    "values = []\n",
    "for k in sorted(celebs, key = celebs.get, reverse=True):\n",
    "    names.append(k)\n",
    "    values.append(celebs[k])\n",
    "for i in range(0, 10):\n",
    "    print(names[i],\":\", round(values[i],4))"
   ]
  },
  {
   "cell_type": "code",
   "execution_count": 52,
   "metadata": {},
   "outputs": [
    {
     "data": {
      "image/png": "[encoded data removed]",
      "text/plain": [
       "<Figure size 432x288 with 1 Axes>"
      ]
     },
     "metadata": {
      "needs_background": "light"
     },
     "output_type": "display_data"
    }
   ],
   "source": [
    "degrees = dict(VG.degree())\n",
    "list_of_degrees = degrees.values()\n",
    "fig, ax = plt.subplots()\n",
    "unique_bins = set(list_of_degrees)\n",
    "plt.hist(list_of_degrees, bins = max(list_of_degrees), density = True)\n",
    "ax.set_xlabel('Degrees')\n",
    "ax.set_ylabel('Frequency of occurence')\n",
    "ax.set_title('Frequency plot of degrees')\n",
    "fig.tight_layout()\n",
    "plt.ylim(0,0.006)\n",
    "plt.show()"
   ]
  },
  {
   "cell_type": "code",
   "execution_count": 50,
   "metadata": {},
   "outputs": [
    {
     "name": "stdout",
     "output_type": "stream",
     "text": [
      "valerois : 1.0\n",
      "zhabaevent : 0.0\n",
      "babushonok : 0.0\n",
      "lolagetty : 0.0\n",
      "sass_hummel : 0.0\n",
      "new_finder : 0.0\n",
      "maleficente : 0.0\n",
      "olganovikova : 0.0\n",
      "gottfrid : 0.0\n",
      "alinaf : 0.0\n"
     ]
    }
   ],
   "source": [
    "VG_bc = nx.betweenness_centrality(VG2)\n",
    "names = []\n",
    "values = []\n",
    "for k in sorted(VG_bc, key = VG_bc.get, reverse = True):\n",
    "    names.append(k)\n",
    "    values.append(VG_bc[k])\n",
    "for i in range(0, 10):\n",
    "    print(names[i],\":\", round(values[i], 3))"
   ]
  },
  {
   "cell_type": "code",
   "execution_count": null,
   "metadata": {},
   "outputs": [],
   "source": []
  }
 ],
 "metadata": {
  "kernelspec": {
   "display_name": "Python 3",
   "language": "python",
   "name": "python3"
  },
  "language_info": {
   "codemirror_mode": {
    "name": "ipython",
    "version": 3
   },
   "file_extension": ".py",
   "mimetype": "text/x-python",
   "name": "python",
   "nbconvert_exporter": "python",
   "pygments_lexer": "ipython3",
   "version": "3.6.8"
  }
 },
 "nbformat": 4,
 "nbformat_minor": 2
}
