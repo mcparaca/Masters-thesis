{
 "cells": [
  {
   "cell_type": "markdown",
   "id": "45ac754c",
   "metadata": {},
   "source": [
    "# Tymoteusz Cieślik"
   ]
  },
  {
   "cell_type": "markdown",
   "id": "4b5d8c63",
   "metadata": {},
   "source": [
    "# Report: What if there was no time limit?\n",
    "\n",
    "First of all, if the time was unlimited, it is important to analyze each of the variables separately. From the preliminary analysis it is possible to draw many useful insights about the data and check their behaviour. For example it would be beneficial to examine the correlation of variables, the reason for the missing data, check the distribution and statistical measures of attributes. It could be also viable to chceck the business meaning of each parameter even before the analysis. \n",
    "\n",
    "The next step should be composed of the data preparation, where the whole data set would be transformed into a form where it would be treated as a model input. If the computation time was not important, the dimensionality of data would not be problematic, as nowadays there exist methods that deal very well with this issue. On the other hand it could be possible to use some dimensionality reduction methods (such as PCA). There also exist possibility of discretizing some of the variables or transforming some categorical into continuous ones. Besides that, the thorough analysis of each variable could help to decide, if removing any rows or columns would result in inaccurate predictions. The use of all possible observations would also make ML models more general and together with the variance-bias tradeoff analysis would result in better predictions.\n",
    "\n",
    "If it comes to models themselves, the input could be really huge, to minimalize the risk of inaccuracies. As the analysis of the most important features is also time-consuming it could be optimal to create a couple of different sets of variables and impose the ML model on them, in order to compare their performance by using different evaluation metrics. In addition the extensive hyperparameter tuning would help in improving the scores.  \n",
    "\n",
    "At last the comparison between the models could be done by analysing the evaluation metrics for each model and decide which one performs the best. "
   ]
  },
  {
   "cell_type": "markdown",
   "id": "b982b33c",
   "metadata": {},
   "source": [
    "## Project with limited time\n",
    "\n",
    "### Preliminary analysis\n",
    "\n",
    "At first let us import some libraries which will be useful for the data analysis, preprocessing and in further work."
   ]
  },
  {
   "cell_type": "code",
   "execution_count": 154,
   "id": "300cf5e7",
   "metadata": {},
   "outputs": [],
   "source": [
    "import pandas as pd \n",
    "import numpy as np\n",
    "import seaborn as sns\n",
    "import matplotlib.pyplot as plt\n",
    "import sklearn.linear_model as skl\n",
    "import sklearn as sk\n",
    "import sklearn.model_selection as skm\n",
    "from sklearn.preprocessing import MinMaxScaler\n",
    "plt.rcParams['figure.figsize'] = [16,10]\n",
    "\n",
    "import warnings\n",
    "warnings.filterwarnings('ignore')\n",
    "pd.options.display.max_rows = 1000"
   ]
  },
  {
   "cell_type": "code",
   "execution_count": 96,
   "id": "83a97f1e",
   "metadata": {},
   "outputs": [],
   "source": [
    "chunksize = 10000\n",
    "data_sample = pd.read_csv(\"accepted_2007_to_2018Q4.csv\",nrows=chunksize)"
   ]
  },
  {
   "cell_type": "markdown",
   "id": "e892330c",
   "metadata": {},
   "source": [
    "Let us choose one numerical attribute and one categorical, and perform some analysis on them. At first we can check the types of variables using .dtypes method. "
   ]
  },
  {
   "cell_type": "code",
   "execution_count": 7,
   "id": "fbf07418",
   "metadata": {},
   "outputs": [
    {
     "data": {
      "text/plain": [
       "id                                              int64\n",
       "member_id                                     float64\n",
       "loan_amnt                                     float64\n",
       "funded_amnt                                   float64\n",
       "funded_amnt_inv                               float64\n",
       "term                                           object\n",
       "int_rate                                      float64\n",
       "installment                                   float64\n",
       "grade                                          object\n",
       "sub_grade                                      object\n",
       "emp_title                                      object\n",
       "emp_length                                     object\n",
       "home_ownership                                 object\n",
       "annual_inc                                    float64\n",
       "verification_status                            object\n",
       "issue_d                                        object\n",
       "loan_status                                    object\n",
       "pymnt_plan                                     object\n",
       "url                                            object\n",
       "desc                                           object\n",
       "purpose                                        object\n",
       "title                                          object\n",
       "zip_code                                       object\n",
       "addr_state                                     object\n",
       "dti                                           float64\n",
       "delinq_2yrs                                   float64\n",
       "earliest_cr_line                               object\n",
       "fico_range_low                                float64\n",
       "fico_range_high                               float64\n",
       "inq_last_6mths                                float64\n",
       "mths_since_last_delinq                        float64\n",
       "mths_since_last_record                        float64\n",
       "open_acc                                      float64\n",
       "pub_rec                                       float64\n",
       "revol_bal                                     float64\n",
       "revol_util                                    float64\n",
       "total_acc                                     float64\n",
       "initial_list_status                            object\n",
       "out_prncp                                     float64\n",
       "out_prncp_inv                                 float64\n",
       "total_pymnt                                   float64\n",
       "total_pymnt_inv                               float64\n",
       "total_rec_prncp                               float64\n",
       "total_rec_int                                 float64\n",
       "total_rec_late_fee                            float64\n",
       "recoveries                                    float64\n",
       "collection_recovery_fee                       float64\n",
       "last_pymnt_d                                   object\n",
       "last_pymnt_amnt                               float64\n",
       "next_pymnt_d                                   object\n",
       "last_credit_pull_d                             object\n",
       "last_fico_range_high                          float64\n",
       "last_fico_range_low                           float64\n",
       "collections_12_mths_ex_med                    float64\n",
       "mths_since_last_major_derog                   float64\n",
       "policy_code                                   float64\n",
       "application_type                               object\n",
       "annual_inc_joint                              float64\n",
       "dti_joint                                     float64\n",
       "verification_status_joint                      object\n",
       "acc_now_delinq                                float64\n",
       "tot_coll_amt                                  float64\n",
       "tot_cur_bal                                   float64\n",
       "open_acc_6m                                   float64\n",
       "open_act_il                                   float64\n",
       "open_il_12m                                   float64\n",
       "open_il_24m                                   float64\n",
       "mths_since_rcnt_il                            float64\n",
       "total_bal_il                                  float64\n",
       "il_util                                       float64\n",
       "open_rv_12m                                   float64\n",
       "open_rv_24m                                   float64\n",
       "max_bal_bc                                    float64\n",
       "all_util                                      float64\n",
       "total_rev_hi_lim                              float64\n",
       "inq_fi                                        float64\n",
       "total_cu_tl                                   float64\n",
       "inq_last_12m                                  float64\n",
       "acc_open_past_24mths                          float64\n",
       "avg_cur_bal                                   float64\n",
       "bc_open_to_buy                                float64\n",
       "bc_util                                       float64\n",
       "chargeoff_within_12_mths                      float64\n",
       "delinq_amnt                                   float64\n",
       "mo_sin_old_il_acct                            float64\n",
       "mo_sin_old_rev_tl_op                          float64\n",
       "mo_sin_rcnt_rev_tl_op                         float64\n",
       "mo_sin_rcnt_tl                                float64\n",
       "mort_acc                                      float64\n",
       "mths_since_recent_bc                          float64\n",
       "mths_since_recent_bc_dlq                      float64\n",
       "mths_since_recent_inq                         float64\n",
       "mths_since_recent_revol_delinq                float64\n",
       "num_accts_ever_120_pd                         float64\n",
       "num_actv_bc_tl                                float64\n",
       "num_actv_rev_tl                               float64\n",
       "num_bc_sats                                   float64\n",
       "num_bc_tl                                     float64\n",
       "num_il_tl                                     float64\n",
       "num_op_rev_tl                                 float64\n",
       "num_rev_accts                                 float64\n",
       "num_rev_tl_bal_gt_0                           float64\n",
       "num_sats                                      float64\n",
       "num_tl_120dpd_2m                              float64\n",
       "num_tl_30dpd                                  float64\n",
       "num_tl_90g_dpd_24m                            float64\n",
       "num_tl_op_past_12m                            float64\n",
       "pct_tl_nvr_dlq                                float64\n",
       "percent_bc_gt_75                              float64\n",
       "pub_rec_bankruptcies                          float64\n",
       "tax_liens                                     float64\n",
       "tot_hi_cred_lim                               float64\n",
       "total_bal_ex_mort                             float64\n",
       "total_bc_limit                                float64\n",
       "total_il_high_credit_limit                    float64\n",
       "revol_bal_joint                               float64\n",
       "sec_app_fico_range_low                        float64\n",
       "sec_app_fico_range_high                       float64\n",
       "sec_app_earliest_cr_line                      float64\n",
       "sec_app_inq_last_6mths                        float64\n",
       "sec_app_mort_acc                              float64\n",
       "sec_app_open_acc                              float64\n",
       "sec_app_revol_util                            float64\n",
       "sec_app_open_act_il                           float64\n",
       "sec_app_num_rev_accts                         float64\n",
       "sec_app_chargeoff_within_12_mths              float64\n",
       "sec_app_collections_12_mths_ex_med            float64\n",
       "sec_app_mths_since_last_major_derog           float64\n",
       "hardship_flag                                  object\n",
       "hardship_type                                  object\n",
       "hardship_reason                                object\n",
       "hardship_status                                object\n",
       "deferral_term                                 float64\n",
       "hardship_amount                               float64\n",
       "hardship_start_date                            object\n",
       "hardship_end_date                              object\n",
       "payment_plan_start_date                        object\n",
       "hardship_length                               float64\n",
       "hardship_dpd                                  float64\n",
       "hardship_loan_status                           object\n",
       "orig_projected_additional_accrued_interest    float64\n",
       "hardship_payoff_balance_amount                float64\n",
       "hardship_last_payment_amount                  float64\n",
       "disbursement_method                            object\n",
       "debt_settlement_flag                           object\n",
       "debt_settlement_flag_date                      object\n",
       "settlement_status                              object\n",
       "settlement_date                                object\n",
       "settlement_amount                             float64\n",
       "settlement_percentage                         float64\n",
       "settlement_term                               float64\n",
       "dtype: object"
      ]
     },
     "execution_count": 7,
     "metadata": {},
     "output_type": "execute_result"
    }
   ],
   "source": [
    "data_sample.dtypes"
   ]
  },
  {
   "cell_type": "markdown",
   "id": "75aa4dd9",
   "metadata": {},
   "source": [
    "As we now know the types, we can arbitrarily select 'installment' and 'grade' as the attributes to examine. Firstly we would like to focus on the numerical one. It's important to find out whether there are some missing values."
   ]
  },
  {
   "cell_type": "code",
   "execution_count": 3,
   "id": "971ebfe3",
   "metadata": {},
   "outputs": [
    {
     "data": {
      "text/plain": [
       "33"
      ]
     },
     "execution_count": 3,
     "metadata": {},
     "output_type": "execute_result"
    }
   ],
   "source": [
    "data_analysis = pd.read_csv(\"accepted_2007_to_2018Q4.csv\",usecols = ['installment','grade'])\n",
    "\n",
    "numerical_var = data_analysis['installment']\n",
    "np.sum(numerical_var.isna())"
   ]
  },
  {
   "cell_type": "markdown",
   "id": "0f661734",
   "metadata": {},
   "source": [
    "It appears that there only is a small amount of missing values, so omitting them will not affect the analysis."
   ]
  },
  {
   "cell_type": "code",
   "execution_count": 239,
   "id": "fa95eeb2",
   "metadata": {},
   "outputs": [],
   "source": [
    "numerical_var = numerical_var.dropna()"
   ]
  },
  {
   "cell_type": "markdown",
   "id": "5008df28",
   "metadata": {},
   "source": [
    "Now, we are able to present some statistical measures for the attribute."
   ]
  },
  {
   "cell_type": "code",
   "execution_count": 240,
   "id": "f2c7e6af",
   "metadata": {},
   "outputs": [
    {
     "data": {
      "text/html": [
       "<div>\n",
       "<style scoped>\n",
       "    .dataframe tbody tr th:only-of-type {\n",
       "        vertical-align: middle;\n",
       "    }\n",
       "\n",
       "    .dataframe tbody tr th {\n",
       "        vertical-align: top;\n",
       "    }\n",
       "\n",
       "    .dataframe thead th {\n",
       "        text-align: right;\n",
       "    }\n",
       "</style>\n",
       "<table border=\"1\" class=\"dataframe\">\n",
       "  <thead>\n",
       "    <tr style=\"text-align: right;\">\n",
       "      <th></th>\n",
       "      <th>installment</th>\n",
       "    </tr>\n",
       "  </thead>\n",
       "  <tbody>\n",
       "    <tr>\n",
       "      <th>count</th>\n",
       "      <td>2.260668e+06</td>\n",
       "    </tr>\n",
       "    <tr>\n",
       "      <th>mean</th>\n",
       "      <td>4.458068e+02</td>\n",
       "    </tr>\n",
       "    <tr>\n",
       "      <th>std</th>\n",
       "      <td>2.671735e+02</td>\n",
       "    </tr>\n",
       "    <tr>\n",
       "      <th>min</th>\n",
       "      <td>4.930000e+00</td>\n",
       "    </tr>\n",
       "    <tr>\n",
       "      <th>25%</th>\n",
       "      <td>2.516500e+02</td>\n",
       "    </tr>\n",
       "    <tr>\n",
       "      <th>50%</th>\n",
       "      <td>3.779900e+02</td>\n",
       "    </tr>\n",
       "    <tr>\n",
       "      <th>75%</th>\n",
       "      <td>5.933200e+02</td>\n",
       "    </tr>\n",
       "    <tr>\n",
       "      <th>max</th>\n",
       "      <td>1.719830e+03</td>\n",
       "    </tr>\n",
       "  </tbody>\n",
       "</table>\n",
       "</div>"
      ],
      "text/plain": [
       "        installment\n",
       "count  2.260668e+06\n",
       "mean   4.458068e+02\n",
       "std    2.671735e+02\n",
       "min    4.930000e+00\n",
       "25%    2.516500e+02\n",
       "50%    3.779900e+02\n",
       "75%    5.933200e+02\n",
       "max    1.719830e+03"
      ]
     },
     "execution_count": 240,
     "metadata": {},
     "output_type": "execute_result"
    }
   ],
   "source": [
    "pd.DataFrame(numerical_var.describe())"
   ]
  },
  {
   "cell_type": "markdown",
   "id": "70361ba4",
   "metadata": {},
   "source": [
    "The raw values do not draw that much attention so that we will prepare a couple of visualizations presenting the distribution of values and explain their behaviour."
   ]
  },
  {
   "cell_type": "code",
   "execution_count": 275,
   "id": "fee0b488",
   "metadata": {},
   "outputs": [
    {
     "data": {
      "image/png": "[encoded data removed]",
      "text/plain": [
       "<Figure size 1152x720 with 2 Axes>"
      ]
     },
     "metadata": {},
     "output_type": "display_data"
    }
   ],
   "source": [
    "plt.subplot(2, 1, 1)\n",
    "ax = sns.distplot(numerical_var)\n",
    "ax.set_title(\"Distribution plot for 'installment' variable\");\n",
    "\n",
    "plt.subplot(2, 1, 2)\n",
    "ax = sns.boxplot(numerical_var)\n",
    "ax.set_title(\"Boxplot for 'installment' variable\");\n",
    "\n",
    "plt.show()"
   ]
  },
  {
   "cell_type": "markdown",
   "id": "30bec577",
   "metadata": {},
   "source": [
    "We notice that the distribution of installment values is right-skewed and is multimodal. The heavy tail is visible on the right hand side, what with the addition of boxplot can imply that there are some outliers. Most of the values are placed between the range of 0 and 1000 while the mean is approximately at 442.\n",
    "\n",
    "We can now move on to the analysis of the categorical variable - 'grade'. At first we can check if there are some missing values and how many unique values are there. "
   ]
  },
  {
   "cell_type": "code",
   "execution_count": 242,
   "id": "15ed96d5",
   "metadata": {},
   "outputs": [
    {
     "data": {
      "text/plain": [
       "33"
      ]
     },
     "execution_count": 242,
     "metadata": {},
     "output_type": "execute_result"
    }
   ],
   "source": [
    "categorical_var = data_analysis['grade']\n",
    "np.sum(categorical_var.isna())"
   ]
  },
  {
   "cell_type": "markdown",
   "id": "7e9d8032",
   "metadata": {},
   "source": [
    "Similarly as before we can omit these values and proceed further."
   ]
  },
  {
   "cell_type": "code",
   "execution_count": 243,
   "id": "00a08312",
   "metadata": {},
   "outputs": [
    {
     "data": {
      "text/plain": [
       "array(['C', 'B', 'F', 'A', 'E', 'D', 'G'], dtype=object)"
      ]
     },
     "execution_count": 243,
     "metadata": {},
     "output_type": "execute_result"
    }
   ],
   "source": [
    "categorical_var = categorical_var.dropna()\n",
    "categorical_var.unique()"
   ]
  },
  {
   "cell_type": "markdown",
   "id": "e5aaf177",
   "metadata": {},
   "source": [
    "As we notice, there are 7 types of grade, probably indicating some kind of financial stability. We can show how many observations of each class there are."
   ]
  },
  {
   "cell_type": "code",
   "execution_count": 244,
   "id": "4afc82c0",
   "metadata": {},
   "outputs": [
    {
     "data": {
      "text/plain": [
       "B    663557\n",
       "C    650053\n",
       "A    433027\n",
       "D    324424\n",
       "E    135639\n",
       "F     41800\n",
       "G     12168\n",
       "Name: grade, dtype: int64"
      ]
     },
     "execution_count": 244,
     "metadata": {},
     "output_type": "execute_result"
    }
   ],
   "source": [
    "categorical_var.value_counts()"
   ]
  },
  {
   "cell_type": "markdown",
   "id": "b9404606",
   "metadata": {},
   "source": [
    "It would be more clear if we saw it on a bar plot."
   ]
  },
  {
   "cell_type": "code",
   "execution_count": 276,
   "id": "5d0ca000",
   "metadata": {},
   "outputs": [
    {
     "data": {
      "image/png": "[encoded data removed]",
      "text/plain": [
       "<Figure size 1152x720 with 1 Axes>"
      ]
     },
     "metadata": {},
     "output_type": "display_data"
    }
   ],
   "source": [
    "ax = sns.countplot(categorical_var, order = ['A','B','C','D','E','F','G'])\n",
    "ax.set_title(\"Barplot for frequency of 'grade' values\")\n",
    "sns.set(rc={'figure.figsize':(5,5)})\n",
    "plt.show()"
   ]
  },
  {
   "cell_type": "markdown",
   "id": "7ae93d19",
   "metadata": {},
   "source": [
    "The most common occurencies are B and C, while there is only a small percentage of grades that are equal to F or G."
   ]
  },
  {
   "cell_type": "markdown",
   "id": "1d12de22",
   "metadata": {},
   "source": [
    "## General data preprocessing\n",
    "\n",
    "In this part we are going to focus on the preparation of the data so that it will be suitable as an input to the machine learning models. During this process we need to remember about a couple of things. As the dataset is huge, we will be working only on a sample of it, due to the relatively small memory of the user's computer. It could be possible to use big data multi-threading technologies for that reason, but the time for the task is limited, so we will abandon this approach. \n",
    "\n",
    "In fact, there are some steps that we are going to follow while transforming the data [1*]:\n",
    "- At first in order to reduce dimensionality we decided to delete attributes, for which there is over 66% of information missing. \n",
    "- The next step is to extract the target variable and encode it correctly. \n",
    "- Then, we divide attributes into numeric and categorical ones, as different kind of data transformations is needed for each group. \n",
    "- After that we remove variabes for which there exist only one distinct value, as it would not contribute to the model, as well as variables for which there are too many distinct values because for the sake of further transformations it wouldn't be optimal and we can afford to treat it as one of the simplifications made. \n",
    "- For numeric data we decided to impute the missing values for each variable by assigning the mean values of the columns to the particular cells, then we normalized the data narrowing the range of values to [0,1] so that each factor could contribute evenly. \n",
    "- Concerning the categorical data, we also imputed missing values by assigning the most frequent value for each variable. Besides that, in order for the attributes to be used in ML models we had to encode their values in some kind of way. The best solution for that was to use one-hot encoding algorithm so that the information is preserved but at the cost of increasing the dimensionality of data and thus probable prolongation of computation time.\n"
   ]
  },
  {
   "cell_type": "code",
   "execution_count": 2,
   "id": "ca734f3b",
   "metadata": {},
   "outputs": [],
   "source": [
    "def normalize_data(data):\n",
    "    \"\"\"\n",
    "    The function normalizes the numeric input by transforming the data and narrowing it to the range of [0,1]\n",
    "    \n",
    "    As the input it takes a pandas dataframe with numeric attributes\n",
    "    \n",
    "    It returns the normalized data as a form of pandas dataframe\n",
    "    \"\"\"\n",
    "    scaler = MinMaxScaler(feature_range=(0, 1))\n",
    "    norm = scaler.fit_transform(data)\n",
    "    norm = pd.DataFrame(norm, columns = data.columns)\n",
    "    return norm"
   ]
  },
  {
   "cell_type": "code",
   "execution_count": 3,
   "id": "d3dda709",
   "metadata": {},
   "outputs": [],
   "source": [
    "def impute_numeric_data(numeric_data):\n",
    "    \"\"\"\n",
    "    The function analyses whether there are any missing values in the numeric data and imputes them by assigning\n",
    "    the mean value of the corresponding column. \n",
    "    \n",
    "    As the input it takes a pandas dataframe with numeric attributes\n",
    "    \n",
    "    It returns imputed data as a form of pandas dataframe\n",
    "    \"\"\"\n",
    "    na_exist_numeric = numeric_data.isna().sum()[numeric_data.isna().sum() >0 ]\n",
    "    imputed_numeric_data = numeric_data\n",
    "    for name in na_exist_numeric.index:\n",
    "        imputed_numeric_data[name]=imputed_numeric_data[name].fillna(imputed_numeric_data[name].mean())\n",
    "    return imputed_numeric_data"
   ]
  },
  {
   "cell_type": "code",
   "execution_count": 4,
   "id": "c2a5de9c",
   "metadata": {},
   "outputs": [],
   "source": [
    "def impute_categorical_data(categorical_data):\n",
    "    \"\"\"\n",
    "    The function analyses whether there are any missing values in the categorical data and imputes them by assigning \n",
    "    the most common value of the corresponding column. \n",
    "    \n",
    "    As the input it takes a pandas dataframe with categorical attributes\n",
    "    \n",
    "    It returns imputed data as a form of pandas dataframe\n",
    "    \n",
    "    \"\"\"\n",
    "    na_exist_categorical = categorical_data.isna().sum()[categorical_data.isna().sum() >0 ]\n",
    "    imputed_categorical_data = categorical_data\n",
    "    imputed_categorical_data = imputed_categorical_data.fillna(imputed_categorical_data.mode().iloc[0])\n",
    "    return imputed_categorical_data"
   ]
  },
  {
   "cell_type": "code",
   "execution_count": 5,
   "id": "f4051b6b",
   "metadata": {},
   "outputs": [],
   "source": [
    "def transform_categorical(categorical_data):\n",
    "    \"\"\"\n",
    "    The fucntion uses one-hot encoding algorithm to transform categorical variables into numeric columns\n",
    "    so that these attribues can be used for predictive modelling.\n",
    "    \n",
    "    As the input it takes a pandas dataframe with categorical attributes\n",
    "    \n",
    "    It returns transformed data as a form of pandas dataframe with binary values\n",
    "    \"\"\"\n",
    "    categorical_imputed_onehot = pd.get_dummies(categorical_data)\n",
    "    categorical_imputed_onehot.reset_index(inplace = True)\n",
    "    categorical_imputed_onehot.drop('index',inplace=True,axis=1)\n",
    "    return categorical_imputed_onehot"
   ]
  },
  {
   "cell_type": "code",
   "execution_count": 97,
   "id": "c850f70d",
   "metadata": {},
   "outputs": [],
   "source": [
    "def prepare_data(csv_file, limit = 100000):\n",
    "    \"\"\"\n",
    "    The function is used for the general preparation of the data, where all the steps, which are made, are described in the \n",
    "    introduction to this part of project [1*]\n",
    "    \n",
    "    As the input it takes a path to the .csv file that will be prepared and the number of rows to be loaded\n",
    "    \n",
    "    It returns transformed data as a form of merged pandas dataframe to be used as input to ML models and the target\n",
    "    set in the form of vector with binary values. \n",
    "    \"\"\"\n",
    "    \n",
    "    sample = pd.read_csv(csv_file, nrows = limit)\n",
    "    sample = sample.dropna(axis = 1, how = 'all', thresh = 0.33*limit)\n",
    "    sample.drop(sample['loan_status'].loc[sample['loan_status'] == \"Current\"].index, inplace=True)\n",
    "    sample['loan_status'].loc[sample['loan_status']=='Fully Paid'] = 0\n",
    "    sample['loan_status'].loc[sample['loan_status']!=0] = 1\n",
    "    target_sample = sample['loan_status']\n",
    "    target_sample=target_sample.astype('int')\n",
    "    for col in sample.columns:\n",
    "        if np.sum(sample[col].nunique()) == 1:\n",
    "            sample.drop(col,inplace=True,axis=1)\n",
    "\n",
    "    numerics = ['int64', 'float64']\n",
    "    categoricals = 'object'\n",
    "    numeric_data = sample.select_dtypes(include=numerics)\n",
    "    categorical_data = sample.select_dtypes(include=categoricals)\n",
    "\n",
    "    categorical_data.drop(['url','loan_status','emp_title','zip_code'],inplace=True,axis=1)\n",
    "    numeric_data.drop('id', inplace=True, axis=1)\n",
    "    imputed_numeric_data = impute_numeric_data(numeric_data)\n",
    "    imputed_categorical_data = impute_categorical_data(categorical_data)\n",
    "    norm_data = normalize_data(imputed_numeric_data)\n",
    "    transformed_categorical = transform_categorical(imputed_categorical_data)\n",
    "    data_all = pd.concat([norm_data, transformed_categorical], axis=1)\n",
    "    return data_all, target_sample"
   ]
  },
  {
   "cell_type": "code",
   "execution_count": 98,
   "id": "4ab2fe59",
   "metadata": {},
   "outputs": [],
   "source": [
    "filename = \"accepted_2007_to_2018Q4.csv\"\n",
    "data_processed, target_processed = prepare_data(filename, limit = 100000)"
   ]
  },
  {
   "cell_type": "markdown",
   "id": "2c3308a3",
   "metadata": {},
   "source": [
    "Apart from that, we can notice a slight imbalance in the data, as the proportion of target values is close to 1:4."
   ]
  },
  {
   "cell_type": "code",
   "execution_count": 126,
   "id": "6dc3648d",
   "metadata": {},
   "outputs": [
    {
     "data": {
      "text/plain": [
       "0.20666380730942008"
      ]
     },
     "execution_count": 126,
     "metadata": {},
     "output_type": "execute_result"
    }
   ],
   "source": [
    "np.sum(target_processed)/len(target_processed)"
   ]
  },
  {
   "cell_type": "markdown",
   "id": "37f108e4",
   "metadata": {},
   "source": [
    "## Building models\n",
    "\n",
    "As we have prepared all the data to be treated as an input to the models we can focus now on the ML methods themselves. We've decided to use almost all of the proposed in the description of the task so that we will be able to broadly compare their performance and decide which one performs the best for the given data and parameters. The way we are going to evaluate the created models is the following,  there are four different metrics used for the classification problems that allow the assessment of the model's performance. They include: accuracy, AUC, precision and recall. \n",
    "\n",
    "Obtaining them is quite simple: we divide the data into training and test sets with the proportion of 80%/20%. We can achieve that by introduction of 5-fold cross validation, so that each sample of the data would be used for training and testing and thus the model will be considered as more general and will reduce the harmful impact of the data imbalance. \n",
    "\n",
    "The way we choose the methods is the following: at first we want to check the behaviour of a simple logistic regression, then by selecting more suitable variables we will be able to compare the performance and chceck whether there would be an improvement. The same situation applied to XGBoost algorithm, when at first we can check the scores for the default model and then compare it with its improved instance. At last we will implement the pruned decision tree in order to comare it to other models and find out on the visualization how the decision process is being held.\n",
    "\n",
    "#### Logistic regression on whole data\n",
    "\n",
    "The first considered method will be the logistic regression. We are going to use the whole dataset as an input to the model and then evaluate it. It does not seem to be the optimal solution but that way we will somehow try to find out whether the data transformations we made were done properly. Nevertheless, we will have an overall insight of the mehod performance by measuring the computation time of the model."
   ]
  },
  {
   "cell_type": "code",
   "execution_count": 39,
   "id": "054e85f6",
   "metadata": {},
   "outputs": [],
   "source": [
    "scorings_class = ['accuracy', 'roc_auc', 'precision', 'recall']"
   ]
  },
  {
   "cell_type": "code",
   "execution_count": 99,
   "id": "5a59b833",
   "metadata": {},
   "outputs": [
    {
     "name": "stdout",
     "output_type": "stream",
     "text": [
      "Wall time: 1min 1s\n"
     ]
    }
   ],
   "source": [
    "log_reg_model = skl.LogisticRegression()\n",
    "%time log_reg_scores = skm.cross_validate(log_reg_model, np.array(data_processed), np.array(target_processed), cv=5,scoring=scorings_class)\n",
    "log_reg_accuracy = np.mean(log_reg_scores['test_accuracy'])\n",
    "log_reg_roc_auc = np.mean(log_reg_scores['test_roc_auc'])\n",
    "log_reg_precision = np.mean(log_reg_scores['test_precision'])\n",
    "log_reg_recall = np.mean(log_reg_scores['test_recall'])"
   ]
  },
  {
   "cell_type": "code",
   "execution_count": 186,
   "id": "a13d1dcf",
   "metadata": {},
   "outputs": [
    {
     "data": {
      "text/html": [
       "<div>\n",
       "<style scoped>\n",
       "    .dataframe tbody tr th:only-of-type {\n",
       "        vertical-align: middle;\n",
       "    }\n",
       "\n",
       "    .dataframe tbody tr th {\n",
       "        vertical-align: top;\n",
       "    }\n",
       "\n",
       "    .dataframe thead th {\n",
       "        text-align: right;\n",
       "    }\n",
       "</style>\n",
       "<table border=\"1\" class=\"dataframe\">\n",
       "  <thead>\n",
       "    <tr style=\"text-align: right;\">\n",
       "      <th></th>\n",
       "      <th>Accuracy</th>\n",
       "      <th>AUC</th>\n",
       "      <th>Precision</th>\n",
       "      <th>Recall</th>\n",
       "    </tr>\n",
       "  </thead>\n",
       "  <tbody>\n",
       "    <tr>\n",
       "      <th>LR</th>\n",
       "      <td>0.990654</td>\n",
       "      <td>0.999017</td>\n",
       "      <td>0.995131</td>\n",
       "      <td>0.95953</td>\n",
       "    </tr>\n",
       "  </tbody>\n",
       "</table>\n",
       "</div>"
      ],
      "text/plain": [
       "    Accuracy       AUC  Precision   Recall\n",
       "LR  0.990654  0.999017   0.995131  0.95953"
      ]
     },
     "execution_count": 186,
     "metadata": {},
     "output_type": "execute_result"
    }
   ],
   "source": [
    "scores_log_reg = {'Accuracy':[log_reg_accuracy],\n",
    "              'AUC':[log_reg_roc_auc],\n",
    "              'Precision':[log_reg_precision],\n",
    "              'Recall':[log_reg_recall]}\n",
    "scores_log_reg_table = pd.DataFrame.from_dict(scores_log_reg, orient='index',\n",
    "                       columns=['LR']).transpose()\n",
    "scores_log_reg_table"
   ]
  },
  {
   "cell_type": "markdown",
   "id": "46eb5273",
   "metadata": {},
   "source": [
    "As we see in the table, the accuracy parameter is really high, reaching over 99%, other parameters also suggest a very good performance of the model."
   ]
  },
  {
   "cell_type": "markdown",
   "id": "d7ce6c90",
   "metadata": {},
   "source": [
    "#### Logistic regression with factor importance\n",
    "\n",
    "This time as the input for the logistic regression we will use only a number of the most important variables for the prediction. Such approach greatly reduces the dimemsionality of the data and allows the faster computation time. In order to accomplish it we will use Random Forest algorithm that will indicate, which variables are the most suitable for the classification."
   ]
  },
  {
   "cell_type": "code",
   "execution_count": 125,
   "id": "76554e39",
   "metadata": {},
   "outputs": [
    {
     "data": {
      "text/plain": [
       "RandomForestClassifier(random_state=42)"
      ]
     },
     "execution_count": 125,
     "metadata": {},
     "output_type": "execute_result"
    }
   ],
   "source": [
    "from sklearn.ensemble import RandomForestClassifier\n",
    "\n",
    "X_train, X_test, y_train, y_test = skm.train_test_split(data_processed, target_processed, test_size=0.2, random_state=42)\n",
    "forest = RandomForestClassifier(random_state=42)\n",
    "forest.fit(X_train, y_train)"
   ]
  },
  {
   "cell_type": "markdown",
   "id": "423182f7",
   "metadata": {},
   "source": [
    "That way we are able to obtain the most important features based on their mean decrease in impurity in random forest algorithm. We can then visualize the top 20 variables on the following graph to find out which ones are the most influential."
   ]
  },
  {
   "cell_type": "code",
   "execution_count": 102,
   "id": "c22996b7",
   "metadata": {},
   "outputs": [
    {
     "data": {
      "image/png": "[encoded data removed]",
      "text/plain": [
       "<Figure size 1152x720 with 1 Axes>"
      ]
     },
     "metadata": {
      "needs_background": "light"
     },
     "output_type": "display_data"
    }
   ],
   "source": [
    "importances = forest.feature_importances_\n",
    "std = np.std([tree.feature_importances_ for tree in forest.estimators_], axis=0)\n",
    "forest_importances = pd.Series(importances, index=data_processed.columns)\n",
    "forest_importances.sort_values(ascending= False, inplace = True)\n",
    "\n",
    "fig, ax = plt.subplots()\n",
    "forest_importances[0:20].plot.bar(yerr=std[0:20], ax=ax)\n",
    "ax.set_title(\"Feature importances using Random Forest\")\n",
    "ax.set_ylabel(\"Mean decrease in impurity\")\n",
    "fig.set_size_inches(16, 10)\n",
    "fig.tight_layout()"
   ]
  },
  {
   "cell_type": "markdown",
   "id": "cd406adb",
   "metadata": {},
   "source": [
    "We notice that some of the variables are numeric and some are categorical. In the next step we can choose a number of the most important features which will be used as the input for the logistic regression. Let us set this value to 100. "
   ]
  },
  {
   "cell_type": "code",
   "execution_count": 103,
   "id": "1167564d",
   "metadata": {},
   "outputs": [],
   "source": [
    "no_of_selected_attributes = 100\n",
    "selected_attributes = data_processed[list(forest_importances[0:no_of_selected_attributes].index)]"
   ]
  },
  {
   "cell_type": "code",
   "execution_count": 104,
   "id": "2ab62757",
   "metadata": {},
   "outputs": [
    {
     "name": "stdout",
     "output_type": "stream",
     "text": [
      "Wall time: 17.9 s\n"
     ]
    }
   ],
   "source": [
    "log_reg_model_importance = skl.LogisticRegression()\n",
    "%time log_reg_scores_importance = skm.cross_validate(log_reg_model_importance, np.array(selected_attributes), np.array(target_processed), cv=5,scoring=scorings_class)\n",
    "log_reg_accuracy_importance = np.mean(log_reg_scores_importance['test_accuracy'])\n",
    "log_reg_roc_auc_importance = np.mean(log_reg_scores_importance['test_roc_auc'])\n",
    "log_reg_precision_importance = np.mean(log_reg_scores_importance['test_precision'])\n",
    "log_reg_recall_importance = np.mean(log_reg_scores_importance['test_recall'])"
   ]
  },
  {
   "cell_type": "markdown",
   "id": "89dc8672",
   "metadata": {},
   "source": [
    "We see that such approach is not as time-consuming as before and the results presented in the table below are even better."
   ]
  },
  {
   "cell_type": "code",
   "execution_count": 185,
   "id": "f3dbae27",
   "metadata": {},
   "outputs": [
    {
     "data": {
      "text/html": [
       "<div>\n",
       "<style scoped>\n",
       "    .dataframe tbody tr th:only-of-type {\n",
       "        vertical-align: middle;\n",
       "    }\n",
       "\n",
       "    .dataframe tbody tr th {\n",
       "        vertical-align: top;\n",
       "    }\n",
       "\n",
       "    .dataframe thead th {\n",
       "        text-align: right;\n",
       "    }\n",
       "</style>\n",
       "<table border=\"1\" class=\"dataframe\">\n",
       "  <thead>\n",
       "    <tr style=\"text-align: right;\">\n",
       "      <th></th>\n",
       "      <th>Accuracy</th>\n",
       "      <th>AUC</th>\n",
       "      <th>Precision</th>\n",
       "      <th>Recall</th>\n",
       "    </tr>\n",
       "  </thead>\n",
       "  <tbody>\n",
       "    <tr>\n",
       "      <th>LR with factor importance</th>\n",
       "      <td>0.991061</td>\n",
       "      <td>0.999086</td>\n",
       "      <td>0.995186</td>\n",
       "      <td>0.961442</td>\n",
       "    </tr>\n",
       "  </tbody>\n",
       "</table>\n",
       "</div>"
      ],
      "text/plain": [
       "                           Accuracy       AUC  Precision    Recall\n",
       "LR with factor importance  0.991061  0.999086   0.995186  0.961442"
      ]
     },
     "execution_count": 185,
     "metadata": {},
     "output_type": "execute_result"
    }
   ],
   "source": [
    "scores_log_reg_importance = {'Accuracy':[log_reg_accuracy_importance],\n",
    "              'AUC':[log_reg_roc_auc_importance],\n",
    "              'Precision':[log_reg_precision_importance],\n",
    "              'Recall':[log_reg_recall_importance]}\n",
    "scores_log_reg_importance_table = pd.DataFrame.from_dict(scores_log_reg_importance, orient='index',\n",
    "                       columns=['LR with factor importance']).transpose()\n",
    "scores_log_reg_importance_table"
   ]
  },
  {
   "cell_type": "markdown",
   "id": "0fee2a88",
   "metadata": {},
   "source": [
    "#### XGBoost with default parameters\n",
    "\n",
    "This time we will implement the XGBoost method, which was developed much more recently and provides a quality way of classification. At first we will run the model with default parameters on all variables and check its performance. \n",
    "Due to the computational complexity we have limited the number of observations so that it takes a reasonable amout of time. "
   ]
  },
  {
   "cell_type": "code",
   "execution_count": 110,
   "id": "73b0145f",
   "metadata": {},
   "outputs": [
    {
     "name": "stdout",
     "output_type": "stream",
     "text": [
      "Wall time: 1min 11s\n"
     ]
    }
   ],
   "source": [
    "import xgboost as xgb\n",
    "model_XGB = xgb.XGBClassifier(use_label_encoder=False, eval_metric='mlogloss')\n",
    "%time XGB_scores = skm.cross_validate(model_XGB, np.array(data_processed[0:20000]), np.array(target_processed[0:20000]), cv=5,scoring=scorings_class,error_score=\"raise\")\n",
    "XGB_accuracy = np.mean(XGB_scores['test_accuracy'])\n",
    "XGB_roc_auc = np.mean(XGB_scores['test_roc_auc'])\n",
    "XGB_precision = np.mean(XGB_scores['test_precision'])\n",
    "XGB_recall = np.mean(XGB_scores['test_recall'])"
   ]
  },
  {
   "cell_type": "markdown",
   "id": "800b4434",
   "metadata": {},
   "source": [
    "In the table below we can find out that the results are even better and the model performs very well."
   ]
  },
  {
   "cell_type": "code",
   "execution_count": 184,
   "id": "b69c9bff",
   "metadata": {},
   "outputs": [
    {
     "data": {
      "text/html": [
       "<div>\n",
       "<style scoped>\n",
       "    .dataframe tbody tr th:only-of-type {\n",
       "        vertical-align: middle;\n",
       "    }\n",
       "\n",
       "    .dataframe tbody tr th {\n",
       "        vertical-align: top;\n",
       "    }\n",
       "\n",
       "    .dataframe thead th {\n",
       "        text-align: right;\n",
       "    }\n",
       "</style>\n",
       "<table border=\"1\" class=\"dataframe\">\n",
       "  <thead>\n",
       "    <tr style=\"text-align: right;\">\n",
       "      <th></th>\n",
       "      <th>Accuracy</th>\n",
       "      <th>AUC</th>\n",
       "      <th>Precision</th>\n",
       "      <th>Recall</th>\n",
       "    </tr>\n",
       "  </thead>\n",
       "  <tbody>\n",
       "    <tr>\n",
       "      <th>XGBoost</th>\n",
       "      <td>0.99565</td>\n",
       "      <td>0.999676</td>\n",
       "      <td>0.995426</td>\n",
       "      <td>0.983813</td>\n",
       "    </tr>\n",
       "  </tbody>\n",
       "</table>\n",
       "</div>"
      ],
      "text/plain": [
       "         Accuracy       AUC  Precision    Recall\n",
       "XGBoost   0.99565  0.999676   0.995426  0.983813"
      ]
     },
     "execution_count": 184,
     "metadata": {},
     "output_type": "execute_result"
    }
   ],
   "source": [
    "scores_xgb = {'Accuracy':[XGB_accuracy],\n",
    "              'AUC':[XGB_roc_auc],\n",
    "              'Precision':[XGB_precision],\n",
    "              'Recall':[XGB_recall]}\n",
    "scores_xgb_table = pd.DataFrame.from_dict(scores_xgb, orient='index',\n",
    "                       columns=['XGBoost']).transpose()\n",
    "scores_xgb_table"
   ]
  },
  {
   "cell_type": "markdown",
   "id": "88c63aa6",
   "metadata": {},
   "source": [
    "#### XGBoost with hyperparameter tuning\n",
    "\n",
    "This time though, we will not change the input to the method, but we will try to tune the hyperparameters so that they are adjusted properly to the analysed data set. Due to the time limit, we will use grid search method only for some of the parameters with predetermined values."
   ]
  },
  {
   "cell_type": "code",
   "execution_count": 149,
   "id": "0859811d",
   "metadata": {},
   "outputs": [],
   "source": [
    "from sklearn.model_selection import GridSearchCV\n",
    "\n",
    "model_XGB_to_tune = xgb.XGBClassifier(use_label_encoder=False,eval_metric='mlogloss')\n",
    "\n",
    "param_grid = {'eta': [0.01,0.05,0.1, 0.3, 0.5],\n",
    "              'gamma': [0, 0.01, 0.1, 1],\n",
    "              'colsample_bytree':[0.5,0.75,1,1.2]\n",
    "             }\n",
    " \n",
    "grid = GridSearchCV(model_XGB_to_tune, param_grid, scoring = scorings_class, cv = 5, verbose = 0, refit = False)\n",
    "fitted = grid.fit(np.array(data_processed[0:20000]), np.array(target_processed[0:20000]))"
   ]
  },
  {
   "cell_type": "markdown",
   "id": "9fd80e97",
   "metadata": {},
   "source": [
    "After the tuning we are able to extract the values of hyperparameters for which the model performs the best and use them for the model training and evaluation. "
   ]
  },
  {
   "cell_type": "code",
   "execution_count": 150,
   "id": "d50d8e9b",
   "metadata": {},
   "outputs": [
    {
     "data": {
      "text/plain": [
       "{'colsample_bytree': 1, 'eta': 0.1, 'gamma': 0.01}"
      ]
     },
     "execution_count": 150,
     "metadata": {},
     "output_type": "execute_result"
    }
   ],
   "source": [
    "from statistics import mode\n",
    "ranks = [fitted.cv_results_['rank_test_accuracy'][0]-1,fitted.cv_results_['rank_test_accuracy'][0]-1,fitted.cv_results_['rank_test_roc_auc'][0]-1,fitted.cv_results_['rank_test_precision'][0]-1]\n",
    "CV_parameters = fitted.cv_results_['params'][mode(ranks)]\n",
    "CV_parameters"
   ]
  },
  {
   "cell_type": "code",
   "execution_count": 151,
   "id": "45d1bab6",
   "metadata": {},
   "outputs": [
    {
     "name": "stdout",
     "output_type": "stream",
     "text": [
      "Wall time: 1min 41s\n"
     ]
    }
   ],
   "source": [
    "model_XGB_tuned = xgb.XGBClassifier(use_label_encoder=False, eval_metric='mlogloss',colsample_bytree = 1, eta = 0.1, gamma = 1)\n",
    "%time XGB_scores_tuned = skm.cross_validate(model_XGB_tuned, np.array(data_processed[0:20000]), np.array(target_processed[0:20000]), cv=5,scoring=scorings_class,error_score=\"raise\")\n",
    "XGB_accuracy_tuned = np.mean(XGB_scores_tuned['test_accuracy'])\n",
    "XGB_roc_auc_tuned = np.mean(XGB_scores_tuned['test_roc_auc'])\n",
    "XGB_precision_tuned = np.mean(XGB_scores_tuned['test_precision'])\n",
    "XGB_recall_tuned = np.mean(XGB_scores_tuned['test_recall'])"
   ]
  },
  {
   "cell_type": "markdown",
   "id": "7f4d416c",
   "metadata": {},
   "source": [
    "In the table below we can see that the results of such adjustments are comparable to the ones achieved previously."
   ]
  },
  {
   "cell_type": "code",
   "execution_count": 183,
   "id": "0c534253",
   "metadata": {},
   "outputs": [
    {
     "data": {
      "text/html": [
       "<div>\n",
       "<style scoped>\n",
       "    .dataframe tbody tr th:only-of-type {\n",
       "        vertical-align: middle;\n",
       "    }\n",
       "\n",
       "    .dataframe tbody tr th {\n",
       "        vertical-align: top;\n",
       "    }\n",
       "\n",
       "    .dataframe thead th {\n",
       "        text-align: right;\n",
       "    }\n",
       "</style>\n",
       "<table border=\"1\" class=\"dataframe\">\n",
       "  <thead>\n",
       "    <tr style=\"text-align: right;\">\n",
       "      <th></th>\n",
       "      <th>Accuracy</th>\n",
       "      <th>AUC</th>\n",
       "      <th>Precision</th>\n",
       "      <th>Recall</th>\n",
       "    </tr>\n",
       "  </thead>\n",
       "  <tbody>\n",
       "    <tr>\n",
       "      <th>Tuned XGBoost</th>\n",
       "      <td>0.9947</td>\n",
       "      <td>0.999508</td>\n",
       "      <td>0.994451</td>\n",
       "      <td>0.980242</td>\n",
       "    </tr>\n",
       "  </tbody>\n",
       "</table>\n",
       "</div>"
      ],
      "text/plain": [
       "               Accuracy       AUC  Precision    Recall\n",
       "Tuned XGBoost    0.9947  0.999508   0.994451  0.980242"
      ]
     },
     "execution_count": 183,
     "metadata": {},
     "output_type": "execute_result"
    }
   ],
   "source": [
    "scores_xgb_tuned = {'Accuracy':[XGB_accuracy_tuned],\n",
    "              'AUC':[XGB_roc_auc_tuned],\n",
    "              'Precision':[XGB_precision_tuned],\n",
    "              'Recall':[XGB_recall_tuned]}\n",
    "scores_xgb_table_tuned = pd.DataFrame.from_dict(scores_xgb_tuned, orient='index',\n",
    "                       columns=['Tuned XGBoost']).transpose()\n",
    "scores_xgb_table_tuned"
   ]
  },
  {
   "cell_type": "markdown",
   "id": "9a675e91",
   "metadata": {},
   "source": [
    "#### Decision tree"
   ]
  },
  {
   "cell_type": "markdown",
   "id": "b993a7bb",
   "metadata": {},
   "source": [
    "The last implemented ML method will be the decision tree. Such approach is viable for different kinds of classification and with the help of pruning and visualization of the tree it is possible to better understand the data and process. At first we can fit the tree to the data."
   ]
  },
  {
   "cell_type": "code",
   "execution_count": 157,
   "id": "6a70ba5e",
   "metadata": {},
   "outputs": [
    {
     "name": "stdout",
     "output_type": "stream",
     "text": [
      "Wall time: 15.6 s\n"
     ]
    }
   ],
   "source": [
    "tree = sk.tree.DecisionTreeClassifier(random_state=25)\n",
    "%time tree_fitted = tree.fit(X_train, y_train)"
   ]
  },
  {
   "cell_type": "markdown",
   "id": "2c5b7ce7",
   "metadata": {},
   "source": [
    "The next step is to collect the list of available values of alpha - the parameter of cost complexity pruning."
   ]
  },
  {
   "cell_type": "code",
   "execution_count": 160,
   "id": "021d2674",
   "metadata": {},
   "outputs": [],
   "source": [
    "path = tree_fitted.cost_complexity_pruning_path(np.array(data_processed[0:20000]), np.array(target_processed[0:20000]))\n",
    "ccp_alphas, impurities = path.ccp_alphas, path.impurities"
   ]
  },
  {
   "cell_type": "markdown",
   "id": "ff802b7c",
   "metadata": {},
   "source": [
    "Then we can evaluate different models which take as an input different values of alpha and select the one, for which the method performs the best."
   ]
  },
  {
   "cell_type": "code",
   "execution_count": 163,
   "id": "499f359a",
   "metadata": {},
   "outputs": [],
   "source": [
    "path = tree_fitted.cost_complexity_pruning_path(np.array(data_processed[0:20000]), np.array(target_processed[0:20000]))\n",
    "ccp_alphas, impurities = path.ccp_alphas, path.impurities\n",
    "mean_cv_score = []\n",
    "for alpha in ccp_alphas:\n",
    "    ctree = sk.tree.DecisionTreeClassifier(random_state=25,ccp_alpha=alpha)\n",
    "    scores = skm.cross_val_score(ctree, np.array(data_processed[0:20000]), np.array(target_processed[0:20000]), cv=5)\n",
    "    mean_cv_score.append([np.mean(scores),alpha])\n",
    "alpha_best = mean_cv_score[np.argmax(mean_cv_score, axis=0)[0]][1]"
   ]
  },
  {
   "cell_type": "markdown",
   "id": "a84a5e69",
   "metadata": {},
   "source": [
    "That way we create a decision tree with the optimal alpha and fit the tree to the data while evaluating the created model. Besides that it is possible to generate the resulting tree on a graph/diagram."
   ]
  },
  {
   "cell_type": "code",
   "execution_count": 173,
   "id": "b0ddff9b",
   "metadata": {},
   "outputs": [
    {
     "name": "stdout",
     "output_type": "stream",
     "text": [
      "Wall time: 32.9 s\n"
     ]
    }
   ],
   "source": [
    "import graphviz\n",
    "pruned_tree = sk.tree.DecisionTreeClassifier(random_state=25,ccp_alpha=alpha_best)\n",
    "%time pruned_tree_scores = skm.cross_validate(pruned_tree, np.array(data_processed[0:20000]), np.array(target_processed[0:20000]), cv=5,scoring=scorings_class,error_score=\"raise\")\n",
    "pruned_tree_fitted = pruned_tree.fit(X_train, y_train)\n",
    "pruned_graph = sk.tree.export_graphviz(pruned_tree_fitted, out_file=None, feature_names=X_train.columns, class_names=['0','1'], filled=True, rounded=True) \n",
    "graph_p = graphviz.Source(pruned_graph) "
   ]
  },
  {
   "cell_type": "code",
   "execution_count": 174,
   "id": "a02cd3a4",
   "metadata": {},
   "outputs": [],
   "source": [
    "tree_accuracy = np.mean(pruned_tree_scores['test_accuracy'])\n",
    "tree_roc_auc = np.mean(pruned_tree_scores['test_roc_auc'])\n",
    "tree_precision = np.mean(pruned_tree_scores['test_precision'])\n",
    "tree_recall = np.mean(pruned_tree_scores['test_recall'])"
   ]
  },
  {
   "cell_type": "code",
   "execution_count": 182,
   "id": "4b73c3fe",
   "metadata": {},
   "outputs": [
    {
     "data": {
      "text/html": [
       "<div>\n",
       "<style scoped>\n",
       "    .dataframe tbody tr th:only-of-type {\n",
       "        vertical-align: middle;\n",
       "    }\n",
       "\n",
       "    .dataframe tbody tr th {\n",
       "        vertical-align: top;\n",
       "    }\n",
       "\n",
       "    .dataframe thead th {\n",
       "        text-align: right;\n",
       "    }\n",
       "</style>\n",
       "<table border=\"1\" class=\"dataframe\">\n",
       "  <thead>\n",
       "    <tr style=\"text-align: right;\">\n",
       "      <th></th>\n",
       "      <th>Accuracy</th>\n",
       "      <th>AUC</th>\n",
       "      <th>Precision</th>\n",
       "      <th>Recall</th>\n",
       "    </tr>\n",
       "  </thead>\n",
       "  <tbody>\n",
       "    <tr>\n",
       "      <th>Decision Tree</th>\n",
       "      <td>0.98755</td>\n",
       "      <td>0.989998</td>\n",
       "      <td>0.979628</td>\n",
       "      <td>0.960723</td>\n",
       "    </tr>\n",
       "  </tbody>\n",
       "</table>\n",
       "</div>"
      ],
      "text/plain": [
       "               Accuracy       AUC  Precision    Recall\n",
       "Decision Tree   0.98755  0.989998   0.979628  0.960723"
      ]
     },
     "execution_count": 182,
     "metadata": {},
     "output_type": "execute_result"
    }
   ],
   "source": [
    "scores_tree = {'Accuracy':[tree_accuracy],\n",
    "              'AUC':[tree_roc_auc],\n",
    "              'Precision':[tree_precision],\n",
    "              'Recall':[tree_recall]}\n",
    "scores_tree = pd.DataFrame.from_dict(scores_tree, orient='index',\n",
    "                       columns=['Decision Tree']).transpose()\n",
    "scores_tree"
   ]
  },
  {
   "cell_type": "markdown",
   "id": "6d782b7e",
   "metadata": {},
   "source": [
    "The scores seem to be very good, although not as high as in previously analysed models. \n",
    "\n",
    "In order to visualize the tree we can save the graph in a .png file..."
   ]
  },
  {
   "cell_type": "code",
   "execution_count": 179,
   "id": "375e1a96",
   "metadata": {
    "scrolled": false
   },
   "outputs": [
    {
     "data": {
      "text/plain": [
       "True"
      ]
     },
     "execution_count": 179,
     "metadata": {},
     "output_type": "execute_result"
    }
   ],
   "source": [
    "import pydotplus\n",
    "pydot_graph = pydotplus.graph_from_dot_data(pruned_graph)\n",
    "pydot_graph.write_png('original_tree.png')"
   ]
  },
  {
   "cell_type": "markdown",
   "id": "b84d0e2f",
   "metadata": {},
   "source": [
    "...and open it."
   ]
  },
  {
   "cell_type": "code",
   "execution_count": 181,
   "id": "716d246e",
   "metadata": {},
   "outputs": [],
   "source": [
    "from PIL import Image\n",
    "with Image.open('original_tree.png') as img:\n",
    "    img.show()"
   ]
  },
  {
   "cell_type": "markdown",
   "id": "45de702f",
   "metadata": {},
   "source": [
    "## Summary\n",
    "\n",
    "In the end we can summarize our predictions by creating the merged table of all evaluation scores, which can be visible below. It appears that the classification was generally very efficient, as the accuracy scores are around 0.99, what can be recognized as almost perfect. If we wanted to be attentive to details we would say that the best performance was achieved by the default XGB model, and the worst by the pruned decision tree. All in all, the analyses and data preprocessing we made turned out to be successful, and imposing the ML models on the resulting data set returned the desired effects. "
   ]
  },
  {
   "cell_type": "code",
   "execution_count": 188,
   "id": "5fb42d4f",
   "metadata": {},
   "outputs": [
    {
     "data": {
      "text/html": [
       "<div>\n",
       "<style scoped>\n",
       "    .dataframe tbody tr th:only-of-type {\n",
       "        vertical-align: middle;\n",
       "    }\n",
       "\n",
       "    .dataframe tbody tr th {\n",
       "        vertical-align: top;\n",
       "    }\n",
       "\n",
       "    .dataframe thead th {\n",
       "        text-align: right;\n",
       "    }\n",
       "</style>\n",
       "<table border=\"1\" class=\"dataframe\">\n",
       "  <thead>\n",
       "    <tr style=\"text-align: right;\">\n",
       "      <th></th>\n",
       "      <th>Accuracy</th>\n",
       "      <th>AUC</th>\n",
       "      <th>Precision</th>\n",
       "      <th>Recall</th>\n",
       "    </tr>\n",
       "  </thead>\n",
       "  <tbody>\n",
       "    <tr>\n",
       "      <th>LR</th>\n",
       "      <td>0.990654</td>\n",
       "      <td>0.999017</td>\n",
       "      <td>0.995131</td>\n",
       "      <td>0.959530</td>\n",
       "    </tr>\n",
       "    <tr>\n",
       "      <th>LR with factor importance</th>\n",
       "      <td>0.991061</td>\n",
       "      <td>0.999086</td>\n",
       "      <td>0.995186</td>\n",
       "      <td>0.961442</td>\n",
       "    </tr>\n",
       "    <tr>\n",
       "      <th>XGBoost</th>\n",
       "      <td>0.995650</td>\n",
       "      <td>0.999676</td>\n",
       "      <td>0.995426</td>\n",
       "      <td>0.983813</td>\n",
       "    </tr>\n",
       "    <tr>\n",
       "      <th>Tuned XGBoost</th>\n",
       "      <td>0.994700</td>\n",
       "      <td>0.999508</td>\n",
       "      <td>0.994451</td>\n",
       "      <td>0.980242</td>\n",
       "    </tr>\n",
       "    <tr>\n",
       "      <th>Decision Tree</th>\n",
       "      <td>0.987550</td>\n",
       "      <td>0.989998</td>\n",
       "      <td>0.979628</td>\n",
       "      <td>0.960723</td>\n",
       "    </tr>\n",
       "  </tbody>\n",
       "</table>\n",
       "</div>"
      ],
      "text/plain": [
       "                           Accuracy       AUC  Precision    Recall\n",
       "LR                         0.990654  0.999017   0.995131  0.959530\n",
       "LR with factor importance  0.991061  0.999086   0.995186  0.961442\n",
       "XGBoost                    0.995650  0.999676   0.995426  0.983813\n",
       "Tuned XGBoost              0.994700  0.999508   0.994451  0.980242\n",
       "Decision Tree              0.987550  0.989998   0.979628  0.960723"
      ]
     },
     "execution_count": 188,
     "metadata": {},
     "output_type": "execute_result"
    }
   ],
   "source": [
    "summary_table = pd.concat([scores_log_reg_table, scores_log_reg_importance_table, scores_xgb_table, scores_xgb_table_tuned, scores_tree], axis = 0)\n",
    "summary_table"
   ]
  },
  {
   "cell_type": "markdown",
   "id": "d2dcbc69",
   "metadata": {},
   "source": [
    "However, due to the limited time and resources needed for the completion of the task we cannot be entirely sure, whether the applied approach would translate into the reality of implementation into production. Nevertheless, we can claim that the used methodologies and ways of dealing with the problem would be a sufficient simplification of the solution to the posed problem."
   ]
  },
  {
   "cell_type": "code",
   "execution_count": null,
   "id": "392ee984",
   "metadata": {},
   "outputs": [],
   "source": []
  }
 ],
 "metadata": {
  "kernelspec": {
   "display_name": "Python 3",
   "language": "python",
   "name": "python3"
  },
  "language_info": {
   "codemirror_mode": {
    "name": "ipython",
    "version": 3
   },
   "file_extension": ".py",
   "mimetype": "text/x-python",
   "name": "python",
   "nbconvert_exporter": "python",
   "pygments_lexer": "ipython3",
   "version": "3.6.8"
  }
 },
 "nbformat": 4,
 "nbformat_minor": 5
}
